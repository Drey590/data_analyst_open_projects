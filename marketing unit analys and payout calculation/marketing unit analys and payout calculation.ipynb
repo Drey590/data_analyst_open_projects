{
 "cells": [
  {
   "cell_type": "markdown",
   "metadata": {},
   "source": [
    "# Аналитика для маркетигового отдела"
   ]
  },
  {
   "cell_type": "markdown",
   "metadata": {},
   "source": [
    "* * * "
   ]
  },
  {
   "cell_type": "markdown",
   "metadata": {},
   "source": [
    "## Оглавление "
   ]
  },
  {
   "cell_type": "markdown",
   "metadata": {},
   "source": [
    "#### [Шаг 1. Загрузим данные и подготовим их к анализу](#Шаг1)\n",
    "####  [Шаг 2. Построим отчёты и посчитаем метрики](#Шаг2)\n",
    "####  [Шаг 3. Напишем общий вывод:](#Шаг3)"
   ]
  },
  {
   "cell_type": "markdown",
   "metadata": {},
   "source": [
    "* * * "
   ]
  },
  {
   "cell_type": "markdown",
   "metadata": {},
   "source": [
    "<a id='Шаг1'></a>"
   ]
  },
  {
   "cell_type": "markdown",
   "metadata": {},
   "source": [
    "### Шаг 1. Загрузим данные и подготовим их к анализу"
   ]
  },
  {
   "cell_type": "code",
   "execution_count": 1,
   "metadata": {},
   "outputs": [],
   "source": [
    "# Импортируем библиотеки , которые могут понадобиться в проекте\n",
    "import pandas as pd \n",
    "import numpy as np \n",
    "from matplotlib import pyplot as plt\n",
    "from scipy import stats as st \n",
    "import seaborn as sns\n",
    "import plotly.express as px\n",
    "import plotly.graph_objects as go"
   ]
  },
  {
   "cell_type": "code",
   "execution_count": 2,
   "metadata": {},
   "outputs": [],
   "source": [
    "# прочитаем файлы и сохраним их в переменных visits, orders и costs соответсвтенно\n",
    "visits = pd.read_csv('/datasets/visits_log.csv')\n",
    "orders = pd.read_csv('/datasets/orders_log.csv')\n",
    "costs = pd.read_csv('/datasets/costs.csv')"
   ]
  },
  {
   "cell_type": "code",
   "execution_count": 3,
   "metadata": {},
   "outputs": [
    {
     "data": {
      "text/html": [
       "<div>\n",
       "<style scoped>\n",
       "    .dataframe tbody tr th:only-of-type {\n",
       "        vertical-align: middle;\n",
       "    }\n",
       "\n",
       "    .dataframe tbody tr th {\n",
       "        vertical-align: top;\n",
       "    }\n",
       "\n",
       "    .dataframe thead th {\n",
       "        text-align: right;\n",
       "    }\n",
       "</style>\n",
       "<table border=\"1\" class=\"dataframe\">\n",
       "  <thead>\n",
       "    <tr style=\"text-align: right;\">\n",
       "      <th></th>\n",
       "      <th>Device</th>\n",
       "      <th>End Ts</th>\n",
       "      <th>Source Id</th>\n",
       "      <th>Start Ts</th>\n",
       "      <th>Uid</th>\n",
       "    </tr>\n",
       "  </thead>\n",
       "  <tbody>\n",
       "    <tr>\n",
       "      <td>0</td>\n",
       "      <td>touch</td>\n",
       "      <td>2017-12-20 17:38:00</td>\n",
       "      <td>4</td>\n",
       "      <td>2017-12-20 17:20:00</td>\n",
       "      <td>16879256277535980062</td>\n",
       "    </tr>\n",
       "    <tr>\n",
       "      <td>1</td>\n",
       "      <td>desktop</td>\n",
       "      <td>2018-02-19 17:21:00</td>\n",
       "      <td>2</td>\n",
       "      <td>2018-02-19 16:53:00</td>\n",
       "      <td>104060357244891740</td>\n",
       "    </tr>\n",
       "    <tr>\n",
       "      <td>2</td>\n",
       "      <td>touch</td>\n",
       "      <td>2017-07-01 01:54:00</td>\n",
       "      <td>5</td>\n",
       "      <td>2017-07-01 01:54:00</td>\n",
       "      <td>7459035603376831527</td>\n",
       "    </tr>\n",
       "    <tr>\n",
       "      <td>3</td>\n",
       "      <td>desktop</td>\n",
       "      <td>2018-05-20 11:23:00</td>\n",
       "      <td>9</td>\n",
       "      <td>2018-05-20 10:59:00</td>\n",
       "      <td>16174680259334210214</td>\n",
       "    </tr>\n",
       "    <tr>\n",
       "      <td>4</td>\n",
       "      <td>desktop</td>\n",
       "      <td>2017-12-27 14:06:00</td>\n",
       "      <td>3</td>\n",
       "      <td>2017-12-27 14:06:00</td>\n",
       "      <td>9969694820036681168</td>\n",
       "    </tr>\n",
       "    <tr>\n",
       "      <td>...</td>\n",
       "      <td>...</td>\n",
       "      <td>...</td>\n",
       "      <td>...</td>\n",
       "      <td>...</td>\n",
       "      <td>...</td>\n",
       "    </tr>\n",
       "    <tr>\n",
       "      <td>359395</td>\n",
       "      <td>desktop</td>\n",
       "      <td>2017-07-29 19:07:19</td>\n",
       "      <td>2</td>\n",
       "      <td>2017-07-29 19:07:00</td>\n",
       "      <td>18363291481961487539</td>\n",
       "    </tr>\n",
       "    <tr>\n",
       "      <td>359396</td>\n",
       "      <td>touch</td>\n",
       "      <td>2018-01-25 17:38:19</td>\n",
       "      <td>1</td>\n",
       "      <td>2018-01-25 17:38:00</td>\n",
       "      <td>18370831553019119586</td>\n",
       "    </tr>\n",
       "    <tr>\n",
       "      <td>359397</td>\n",
       "      <td>desktop</td>\n",
       "      <td>2018-03-03 10:12:19</td>\n",
       "      <td>4</td>\n",
       "      <td>2018-03-03 10:12:00</td>\n",
       "      <td>18387297585500748294</td>\n",
       "    </tr>\n",
       "    <tr>\n",
       "      <td>359398</td>\n",
       "      <td>desktop</td>\n",
       "      <td>2017-11-02 10:12:19</td>\n",
       "      <td>5</td>\n",
       "      <td>2017-11-02 10:12:00</td>\n",
       "      <td>18388616944624776485</td>\n",
       "    </tr>\n",
       "    <tr>\n",
       "      <td>359399</td>\n",
       "      <td>touch</td>\n",
       "      <td>2017-09-10 13:13:19</td>\n",
       "      <td>2</td>\n",
       "      <td>2017-09-10 13:13:00</td>\n",
       "      <td>18396128934054549559</td>\n",
       "    </tr>\n",
       "  </tbody>\n",
       "</table>\n",
       "<p>359400 rows × 5 columns</p>\n",
       "</div>"
      ],
      "text/plain": [
       "         Device               End Ts  Source Id             Start Ts  \\\n",
       "0         touch  2017-12-20 17:38:00          4  2017-12-20 17:20:00   \n",
       "1       desktop  2018-02-19 17:21:00          2  2018-02-19 16:53:00   \n",
       "2         touch  2017-07-01 01:54:00          5  2017-07-01 01:54:00   \n",
       "3       desktop  2018-05-20 11:23:00          9  2018-05-20 10:59:00   \n",
       "4       desktop  2017-12-27 14:06:00          3  2017-12-27 14:06:00   \n",
       "...         ...                  ...        ...                  ...   \n",
       "359395  desktop  2017-07-29 19:07:19          2  2017-07-29 19:07:00   \n",
       "359396    touch  2018-01-25 17:38:19          1  2018-01-25 17:38:00   \n",
       "359397  desktop  2018-03-03 10:12:19          4  2018-03-03 10:12:00   \n",
       "359398  desktop  2017-11-02 10:12:19          5  2017-11-02 10:12:00   \n",
       "359399    touch  2017-09-10 13:13:19          2  2017-09-10 13:13:00   \n",
       "\n",
       "                         Uid  \n",
       "0       16879256277535980062  \n",
       "1         104060357244891740  \n",
       "2        7459035603376831527  \n",
       "3       16174680259334210214  \n",
       "4        9969694820036681168  \n",
       "...                      ...  \n",
       "359395  18363291481961487539  \n",
       "359396  18370831553019119586  \n",
       "359397  18387297585500748294  \n",
       "359398  18388616944624776485  \n",
       "359399  18396128934054549559  \n",
       "\n",
       "[359400 rows x 5 columns]"
      ]
     },
     "metadata": {},
     "output_type": "display_data"
    },
    {
     "name": "stdout",
     "output_type": "stream",
     "text": [
      "\n",
      "<class 'pandas.core.frame.DataFrame'>\n",
      "RangeIndex: 359400 entries, 0 to 359399\n",
      "Data columns (total 5 columns):\n",
      "Device       359400 non-null object\n",
      "End Ts       359400 non-null object\n",
      "Source Id    359400 non-null int64\n",
      "Start Ts     359400 non-null object\n",
      "Uid          359400 non-null uint64\n",
      "dtypes: int64(1), object(3), uint64(1)\n",
      "memory usage: 13.7+ MB\n",
      "None\n"
     ]
    }
   ],
   "source": [
    "# выведем саму таблицу visits и общую информацию о ней\n",
    "display(visits)\n",
    "print()\n",
    "print(visits.info())"
   ]
  },
  {
   "cell_type": "markdown",
   "metadata": {},
   "source": [
    "* В таблице visits отсутсвуют пропущенные значения, однако столбцы End Ts, Start Ts и Uid необходимо привести к корректному типу данных.Также избавимся от заглавных букв и пробелов в названиях столбцов."
   ]
  },
  {
   "cell_type": "code",
   "execution_count": 4,
   "metadata": {},
   "outputs": [],
   "source": [
    "# передаем список с новыми названиями в .columns[] \n",
    "visits.columns = ['device','end_ts','source_id','start_ts','uid']"
   ]
  },
  {
   "cell_type": "code",
   "execution_count": 5,
   "metadata": {},
   "outputs": [],
   "source": [
    "# приведем end_ts и start_ts к типу datetime так как они содержат в себе дату\n",
    "visits['end_ts'] = pd.to_datetime(visits['end_ts'])\n",
    "visits['start_ts'] = pd.to_datetime(visits['start_ts'])\n",
    "# 'uid' приведем к типу object тк это уникальный номер, обезопасим себя от арифметических действий с этим столбцом\n",
    "visits['uid'] = visits['uid'].astype('object')"
   ]
  },
  {
   "cell_type": "code",
   "execution_count": 6,
   "metadata": {},
   "outputs": [
    {
     "data": {
      "text/html": [
       "<div>\n",
       "<style scoped>\n",
       "    .dataframe tbody tr th:only-of-type {\n",
       "        vertical-align: middle;\n",
       "    }\n",
       "\n",
       "    .dataframe tbody tr th {\n",
       "        vertical-align: top;\n",
       "    }\n",
       "\n",
       "    .dataframe thead th {\n",
       "        text-align: right;\n",
       "    }\n",
       "</style>\n",
       "<table border=\"1\" class=\"dataframe\">\n",
       "  <thead>\n",
       "    <tr style=\"text-align: right;\">\n",
       "      <th></th>\n",
       "      <th>Buy Ts</th>\n",
       "      <th>Revenue</th>\n",
       "      <th>Uid</th>\n",
       "    </tr>\n",
       "  </thead>\n",
       "  <tbody>\n",
       "    <tr>\n",
       "      <td>0</td>\n",
       "      <td>2017-06-01 00:10:00</td>\n",
       "      <td>17.00</td>\n",
       "      <td>10329302124590727494</td>\n",
       "    </tr>\n",
       "    <tr>\n",
       "      <td>1</td>\n",
       "      <td>2017-06-01 00:25:00</td>\n",
       "      <td>0.55</td>\n",
       "      <td>11627257723692907447</td>\n",
       "    </tr>\n",
       "    <tr>\n",
       "      <td>2</td>\n",
       "      <td>2017-06-01 00:27:00</td>\n",
       "      <td>0.37</td>\n",
       "      <td>17903680561304213844</td>\n",
       "    </tr>\n",
       "    <tr>\n",
       "      <td>3</td>\n",
       "      <td>2017-06-01 00:29:00</td>\n",
       "      <td>0.55</td>\n",
       "      <td>16109239769442553005</td>\n",
       "    </tr>\n",
       "    <tr>\n",
       "      <td>4</td>\n",
       "      <td>2017-06-01 07:58:00</td>\n",
       "      <td>0.37</td>\n",
       "      <td>14200605875248379450</td>\n",
       "    </tr>\n",
       "    <tr>\n",
       "      <td>...</td>\n",
       "      <td>...</td>\n",
       "      <td>...</td>\n",
       "      <td>...</td>\n",
       "    </tr>\n",
       "    <tr>\n",
       "      <td>50410</td>\n",
       "      <td>2018-05-31 23:50:00</td>\n",
       "      <td>4.64</td>\n",
       "      <td>12296626599487328624</td>\n",
       "    </tr>\n",
       "    <tr>\n",
       "      <td>50411</td>\n",
       "      <td>2018-05-31 23:50:00</td>\n",
       "      <td>5.80</td>\n",
       "      <td>11369640365507475976</td>\n",
       "    </tr>\n",
       "    <tr>\n",
       "      <td>50412</td>\n",
       "      <td>2018-05-31 23:54:00</td>\n",
       "      <td>0.30</td>\n",
       "      <td>1786462140797698849</td>\n",
       "    </tr>\n",
       "    <tr>\n",
       "      <td>50413</td>\n",
       "      <td>2018-05-31 23:56:00</td>\n",
       "      <td>3.67</td>\n",
       "      <td>3993697860786194247</td>\n",
       "    </tr>\n",
       "    <tr>\n",
       "      <td>50414</td>\n",
       "      <td>2018-06-01 00:02:00</td>\n",
       "      <td>3.42</td>\n",
       "      <td>83872787173869366</td>\n",
       "    </tr>\n",
       "  </tbody>\n",
       "</table>\n",
       "<p>50415 rows × 3 columns</p>\n",
       "</div>"
      ],
      "text/plain": [
       "                    Buy Ts  Revenue                   Uid\n",
       "0      2017-06-01 00:10:00    17.00  10329302124590727494\n",
       "1      2017-06-01 00:25:00     0.55  11627257723692907447\n",
       "2      2017-06-01 00:27:00     0.37  17903680561304213844\n",
       "3      2017-06-01 00:29:00     0.55  16109239769442553005\n",
       "4      2017-06-01 07:58:00     0.37  14200605875248379450\n",
       "...                    ...      ...                   ...\n",
       "50410  2018-05-31 23:50:00     4.64  12296626599487328624\n",
       "50411  2018-05-31 23:50:00     5.80  11369640365507475976\n",
       "50412  2018-05-31 23:54:00     0.30   1786462140797698849\n",
       "50413  2018-05-31 23:56:00     3.67   3993697860786194247\n",
       "50414  2018-06-01 00:02:00     3.42     83872787173869366\n",
       "\n",
       "[50415 rows x 3 columns]"
      ]
     },
     "metadata": {},
     "output_type": "display_data"
    },
    {
     "name": "stdout",
     "output_type": "stream",
     "text": [
      "\n",
      "<class 'pandas.core.frame.DataFrame'>\n",
      "RangeIndex: 50415 entries, 0 to 50414\n",
      "Data columns (total 3 columns):\n",
      "Buy Ts     50415 non-null object\n",
      "Revenue    50415 non-null float64\n",
      "Uid        50415 non-null uint64\n",
      "dtypes: float64(1), object(1), uint64(1)\n",
      "memory usage: 1.2+ MB\n",
      "None\n"
     ]
    }
   ],
   "source": [
    "# выведем таблицу orders и общую информацию о ней\n",
    "display(orders)\n",
    "print()\n",
    "print(orders.info())"
   ]
  },
  {
   "cell_type": "markdown",
   "metadata": {},
   "source": [
    "* Пропущенных значений также нет.Переименуем столбцы и приведем 'Buy Ts' и 'Uid' к нужным типам."
   ]
  },
  {
   "cell_type": "code",
   "execution_count": 7,
   "metadata": {},
   "outputs": [],
   "source": [
    "# передаем список с новыми названиями в .columns[] \n",
    "orders.columns = ['buy_ts','revenue','uid']"
   ]
  },
  {
   "cell_type": "code",
   "execution_count": 8,
   "metadata": {},
   "outputs": [],
   "source": [
    "# приведем buy_ts к типу datetime так как он содержит в себе дату\n",
    "orders['buy_ts'] = pd.to_datetime(orders['buy_ts'])\n",
    "# 'uid' приведем к типу object тк это уникальный номер, обезопасим себя от арифметических действий с этим столбцом\n",
    "orders['uid'] = orders['uid'].astype('object')"
   ]
  },
  {
   "cell_type": "code",
   "execution_count": 9,
   "metadata": {},
   "outputs": [
    {
     "data": {
      "text/html": [
       "<div>\n",
       "<style scoped>\n",
       "    .dataframe tbody tr th:only-of-type {\n",
       "        vertical-align: middle;\n",
       "    }\n",
       "\n",
       "    .dataframe tbody tr th {\n",
       "        vertical-align: top;\n",
       "    }\n",
       "\n",
       "    .dataframe thead th {\n",
       "        text-align: right;\n",
       "    }\n",
       "</style>\n",
       "<table border=\"1\" class=\"dataframe\">\n",
       "  <thead>\n",
       "    <tr style=\"text-align: right;\">\n",
       "      <th></th>\n",
       "      <th>source_id</th>\n",
       "      <th>dt</th>\n",
       "      <th>costs</th>\n",
       "    </tr>\n",
       "  </thead>\n",
       "  <tbody>\n",
       "    <tr>\n",
       "      <td>0</td>\n",
       "      <td>1</td>\n",
       "      <td>2017-06-01</td>\n",
       "      <td>75.20</td>\n",
       "    </tr>\n",
       "    <tr>\n",
       "      <td>1</td>\n",
       "      <td>1</td>\n",
       "      <td>2017-06-02</td>\n",
       "      <td>62.25</td>\n",
       "    </tr>\n",
       "    <tr>\n",
       "      <td>2</td>\n",
       "      <td>1</td>\n",
       "      <td>2017-06-03</td>\n",
       "      <td>36.53</td>\n",
       "    </tr>\n",
       "    <tr>\n",
       "      <td>3</td>\n",
       "      <td>1</td>\n",
       "      <td>2017-06-04</td>\n",
       "      <td>55.00</td>\n",
       "    </tr>\n",
       "    <tr>\n",
       "      <td>4</td>\n",
       "      <td>1</td>\n",
       "      <td>2017-06-05</td>\n",
       "      <td>57.08</td>\n",
       "    </tr>\n",
       "    <tr>\n",
       "      <td>...</td>\n",
       "      <td>...</td>\n",
       "      <td>...</td>\n",
       "      <td>...</td>\n",
       "    </tr>\n",
       "    <tr>\n",
       "      <td>2537</td>\n",
       "      <td>10</td>\n",
       "      <td>2018-05-27</td>\n",
       "      <td>9.92</td>\n",
       "    </tr>\n",
       "    <tr>\n",
       "      <td>2538</td>\n",
       "      <td>10</td>\n",
       "      <td>2018-05-28</td>\n",
       "      <td>21.26</td>\n",
       "    </tr>\n",
       "    <tr>\n",
       "      <td>2539</td>\n",
       "      <td>10</td>\n",
       "      <td>2018-05-29</td>\n",
       "      <td>11.32</td>\n",
       "    </tr>\n",
       "    <tr>\n",
       "      <td>2540</td>\n",
       "      <td>10</td>\n",
       "      <td>2018-05-30</td>\n",
       "      <td>33.15</td>\n",
       "    </tr>\n",
       "    <tr>\n",
       "      <td>2541</td>\n",
       "      <td>10</td>\n",
       "      <td>2018-05-31</td>\n",
       "      <td>17.60</td>\n",
       "    </tr>\n",
       "  </tbody>\n",
       "</table>\n",
       "<p>2542 rows × 3 columns</p>\n",
       "</div>"
      ],
      "text/plain": [
       "      source_id          dt  costs\n",
       "0             1  2017-06-01  75.20\n",
       "1             1  2017-06-02  62.25\n",
       "2             1  2017-06-03  36.53\n",
       "3             1  2017-06-04  55.00\n",
       "4             1  2017-06-05  57.08\n",
       "...         ...         ...    ...\n",
       "2537         10  2018-05-27   9.92\n",
       "2538         10  2018-05-28  21.26\n",
       "2539         10  2018-05-29  11.32\n",
       "2540         10  2018-05-30  33.15\n",
       "2541         10  2018-05-31  17.60\n",
       "\n",
       "[2542 rows x 3 columns]"
      ]
     },
     "metadata": {},
     "output_type": "display_data"
    },
    {
     "name": "stdout",
     "output_type": "stream",
     "text": [
      "\n",
      "<class 'pandas.core.frame.DataFrame'>\n",
      "RangeIndex: 2542 entries, 0 to 2541\n",
      "Data columns (total 3 columns):\n",
      "source_id    2542 non-null int64\n",
      "dt           2542 non-null object\n",
      "costs        2542 non-null float64\n",
      "dtypes: float64(1), int64(1), object(1)\n",
      "memory usage: 59.7+ KB\n",
      "None\n"
     ]
    }
   ],
   "source": [
    "# выведем таблицу costs и общую информацию о ней\n",
    "display(costs)\n",
    "print()\n",
    "print(costs.info())"
   ]
  },
  {
   "cell_type": "markdown",
   "metadata": {},
   "source": [
    "* Пропущенных значений нет. Приведем столбец 'dt' к нужному типу"
   ]
  },
  {
   "cell_type": "code",
   "execution_count": 10,
   "metadata": {},
   "outputs": [],
   "source": [
    "# приведем dt к типу datetime так как он содержит в себе дату\n",
    "costs['dt'] = pd.to_datetime(costs['dt'])"
   ]
  },
  {
   "cell_type": "markdown",
   "metadata": {},
   "source": [
    "### Вывод:"
   ]
  },
  {
   "cell_type": "markdown",
   "metadata": {},
   "source": [
    "В рамках первого шага :\n",
    "* импортировали библиотеки\n",
    "* открыли файлы и изучили общую информацию \n",
    "* выяснили , что таблицы не содержат пропущенных значений \n",
    "* переименовали столбцы(избавились от пробелов и заглавных букв)\n",
    "* привели столбцы к правильному типу \n",
    "* подготовили данные к дальнейшему анализу."
   ]
  },
  {
   "cell_type": "markdown",
   "metadata": {},
   "source": [
    "<a id='Шаг2'></a>"
   ]
  },
  {
   "cell_type": "markdown",
   "metadata": {},
   "source": [
    "### Шаг 2. Построим отчёты и посчитаем метрики"
   ]
  },
  {
   "cell_type": "markdown",
   "metadata": {},
   "source": [
    "Чтобы посмотреть на имеющуюся активность пользователей, рассчитаем метрики DAU, WAU и MAU. Каждая из них покажет:\n",
    "* DAU — среднее количество уникальных пользователей в день\n",
    "* WAU — среднее количество уникальных пользователей в неделю\n",
    "* MAU — среднее количество уникальных пользователей в месяц."
   ]
  },
  {
   "cell_type": "code",
   "execution_count": 12,
   "metadata": {},
   "outputs": [],
   "source": [
    "# группируем по нужной временной величине и считаем количество уникальных 'uid'\n",
    "dau = visits.groupby('session_date').agg({'uid': 'nunique'}).mean()\n",
    "wau = visits.groupby(['session_year', 'session_week']).agg({'uid': 'nunique'}).mean()\n",
    "mau = visits.groupby(['session_year', 'session_month']).agg({'uid': 'nunique'}).mean()"
   ]
  },
  {
   "cell_type": "code",
   "execution_count": 13,
   "metadata": {},
   "outputs": [
    {
     "name": "stdout",
     "output_type": "stream",
     "text": [
      "DAU: 907\n",
      "WAU: 5716\n",
      "MAU: 23228\n"
     ]
    }
   ],
   "source": [
    "# выведем метрики в целом типе \n",
    "print('DAU:',int(dau))\n",
    "print('WAU:',int(wau))\n",
    "print('MAU:',int(mau))"
   ]
  },
  {
   "cell_type": "markdown",
   "metadata": {},
   "source": [
    "* То есть имеем в среднем 907 посетителей на сайте в день , 5716 посетителей в неделю и 23228 в месяц."
   ]
  },
  {
   "cell_type": "markdown",
   "metadata": {},
   "source": [
    "* Визуализиурем метрики и посмотрим на них в динамике времени."
   ]
  },
  {
   "cell_type": "code",
   "execution_count": 14,
   "metadata": {},
   "outputs": [
    {
     "data": {
      "image/png": "[encoded data removed]",
      "text/plain": [
       "<Figure size 864x576 with 1 Axes>"
      ]
     },
     "metadata": {
      "needs_background": "light"
     },
     "output_type": "display_data"
    }
   ],
   "source": [
    "dau_1 = visits.groupby('session_date').agg({'uid': 'nunique'}).reset_index()\n",
    "dau_1.plot(kind='line',x = 'session_date',y = 'uid',figsize=(12,8),grid=True)\n",
    "plt.xlabel('Месяц')\n",
    "plt.title('Количество пользователей с течением времени')\n",
    "plt.ylabel('Количество пользователей');"
   ]
  },
  {
   "cell_type": "markdown",
   "metadata": {},
   "source": [
    "* Наблюдаем некую сезонность в посещении сайта: ближе к концу года(начиная с октября) и в его первом месяце посещаемость наибольшая. Возможно это связано с праздниками и появлением мероприятий, приуроченных к ним и более активной закупкой трафика, рекламными компаниями.Также странно выглядит падение посещаемости до нуля в апреле,это может обьясняться техническими работами или неполадками на сайте."
   ]
  },
  {
   "cell_type": "markdown",
   "metadata": {},
   "source": [
    "* Построим на эти же метрики по устройствам, c которых была соверешена пользовательская сессия"
   ]
  },
  {
   "cell_type": "code",
   "execution_count": 15,
   "metadata": {},
   "outputs": [
    {
     "data": {
      "text/plain": [
       "array(['touch', 'desktop'], dtype=object)"
      ]
     },
     "execution_count": 15,
     "metadata": {},
     "output_type": "execute_result"
    }
   ],
   "source": [
    "# посмотрим сколько уникальных значениц по столбцу\n",
    "visits['device'].unique()"
   ]
  },
  {
   "cell_type": "code",
   "execution_count": 16,
   "metadata": {},
   "outputs": [],
   "source": [
    "# создаем два среза по каждому типу девайсов\n",
    "touch = visits.query('device == \"touch\"')\n",
    "desktop = visits.query('device == \"desktop\"')"
   ]
  },
  {
   "cell_type": "code",
   "execution_count": 17,
   "metadata": {},
   "outputs": [
    {
     "name": "stdout",
     "output_type": "stream",
     "text": [
      "DAU по touch: 252\n",
      "WAU по touch: 1634\n",
      "MAU по touch: 6825\n",
      "\n",
      "DAU по desktop: 659\n",
      "WAU по desktop: 4129\n",
      "MAU по desktop: 16724\n"
     ]
    }
   ],
   "source": [
    "# группируем по нужной временной величине и считаем количество уникальных 'uid' по каждому девайсу\n",
    "dau_touch = touch.groupby('session_date').agg({'uid': 'nunique'}).mean()\n",
    "wau_touch = touch.groupby(['session_year', 'session_week']).agg({'uid': 'nunique'}).mean()\n",
    "mau_touch = touch.groupby(['session_year', 'session_month']).agg({'uid': 'nunique'}).mean()\n",
    "\n",
    "# выведем метрики в целом типе \n",
    "print('DAU по touch:',int(dau_touch))\n",
    "print('WAU по touch:',int(wau_touch))\n",
    "print('MAU по touch:',int(mau_touch))\n",
    "print()\n",
    "dau_desktop = desktop.groupby('session_date').agg({'uid': 'nunique'}).mean()\n",
    "wau_desktop = desktop.groupby(['session_year', 'session_week']).agg({'uid': 'nunique'}).mean()\n",
    "mau_desktop = desktop.groupby(['session_year', 'session_month']).agg({'uid': 'nunique'}).mean()\n",
    "\n",
    "# выведем метрики в целом типе \n",
    "print('DAU по desktop:',int(dau_desktop))\n",
    "print('WAU по desktop:',int(wau_desktop))\n",
    "print('MAU по desktop:',int(mau_desktop))"
   ]
  },
  {
   "cell_type": "markdown",
   "metadata": {},
   "source": [
    "* По всем трем метрикам видно, что в среднем в день, неделю и месяц , пользователей с desktop-девайсов заходит более чем в 2 раза больше , чем пользователей с touch-девайсов"
   ]
  },
  {
   "cell_type": "markdown",
   "metadata": {},
   "source": [
    "* Разделим число сессий на количество пользователей за период"
   ]
  },
  {
   "cell_type": "code",
   "execution_count": 18,
   "metadata": {},
   "outputs": [
    {
     "name": "stdout",
     "output_type": "stream",
     "text": [
      "Один пользователь в среднем совершает сессий в день: 1\n"
     ]
    }
   ],
   "source": [
    "# чтобы узнать сколько сессий приходится на одного пользователья за день, разделим число сессий на количество пользователей \n",
    "sessions_per_user = visits.groupby(['session_year', 'session_date']).agg({'uid': ['count','nunique']})\n",
    "sessions_per_user.columns = ['n_sessions', 'n_users']\n",
    "sessions_per_user['sessions_per_user'] = sessions_per_user['n_sessions'] / sessions_per_user['n_users']\n",
    "sessions_per_user['sessions_per_user'].describe()\n",
    "mean = sessions_per_user['sessions_per_user'].mean()\n",
    "print('Один пользователь в среднем совершает сессий в день:',int(mean))"
   ]
  },
  {
   "cell_type": "markdown",
   "metadata": {},
   "source": [
    "* Теперь расчитаем метрику ASL, которая показывает, сколько длится сессия пользователя в среднем."
   ]
  },
  {
   "cell_type": "code",
   "execution_count": 19,
   "metadata": {},
   "outputs": [
    {
     "name": "stdout",
     "output_type": "stream",
     "text": [
      "643.506488592098\n"
     ]
    }
   ],
   "source": [
    "# посчитаем длину всех сессий и вычислим среднее\n",
    "visits['session_duration_sec'] = (visits['end_ts'] - visits['start_ts']).dt.seconds\n",
    "print(visits['session_duration_sec'].mean())"
   ]
  },
  {
   "cell_type": "markdown",
   "metadata": {},
   "source": [
    "* Построим гистограмму и посмотрим на реальное распределение продолжительности"
   ]
  },
  {
   "cell_type": "code",
   "execution_count": 20,
   "metadata": {},
   "outputs": [
    {
     "data": {
      "image/png": "[encoded data removed]",
      "text/plain": [
       "<Figure size 432x288 with 1 Axes>"
      ]
     },
     "metadata": {
      "needs_background": "light"
     },
     "output_type": "display_data"
    }
   ],
   "source": [
    "visits['session_duration_sec'].hist(bins=80,range=(0,4000)).set_title('Длительность сесиии в секундах');"
   ]
  },
  {
   "cell_type": "markdown",
   "metadata": {},
   "source": [
    "* Распределение далеко от нормального - такие показатели, как среднее и медиана будут нерепрезентативными .Для нашего случая лучше подходит мода, то есть самое часто встречающееся значение."
   ]
  },
  {
   "cell_type": "code",
   "execution_count": 21,
   "metadata": {},
   "outputs": [
    {
     "data": {
      "text/plain": [
       "0    60\n",
       "dtype: int64"
      ]
     },
     "execution_count": 21,
     "metadata": {},
     "output_type": "execute_result"
    }
   ],
   "source": [
    "# выведем моду\n",
    "visits['session_duration_sec'].mode()"
   ]
  },
  {
   "cell_type": "markdown",
   "metadata": {},
   "source": [
    "\n",
    "* Большинство посетителей проводит на нашем сайте 1 минуту."
   ]
  },
  {
   "cell_type": "markdown",
   "metadata": {},
   "source": [
    "* Посчитаем эту же метрику для каждого типа дейсов "
   ]
  },
  {
   "cell_type": "code",
   "execution_count": 22,
   "metadata": {},
   "outputs": [
    {
     "name": "stdout",
     "output_type": "stream",
     "text": [
      "Число сессий с touch девайсов: 96833\n",
      "Число сессий с desktop девайсов: 262567\n"
     ]
    }
   ],
   "source": [
    "print('Число сессий с touch девайсов:',len(touch))\n",
    "print('Число сессий с desktop девайсов:',len(desktop))"
   ]
  },
  {
   "cell_type": "markdown",
   "metadata": {},
   "source": [
    "* Большинство пользовательских визитов на наш сайт было совершено с компьютеров."
   ]
  },
  {
   "cell_type": "code",
   "execution_count": 23,
   "metadata": {},
   "outputs": [
    {
     "data": {
      "text/html": [
       "<div>\n",
       "<style scoped>\n",
       "    .dataframe tbody tr th:only-of-type {\n",
       "        vertical-align: middle;\n",
       "    }\n",
       "\n",
       "    .dataframe tbody tr th {\n",
       "        vertical-align: top;\n",
       "    }\n",
       "\n",
       "    .dataframe thead th {\n",
       "        text-align: right;\n",
       "    }\n",
       "</style>\n",
       "<table border=\"1\" class=\"dataframe\">\n",
       "  <thead>\n",
       "    <tr style=\"text-align: right;\">\n",
       "      <th></th>\n",
       "      <th>device</th>\n",
       "      <th>end_ts</th>\n",
       "      <th>source_id</th>\n",
       "      <th>start_ts</th>\n",
       "      <th>uid</th>\n",
       "      <th>session_year</th>\n",
       "      <th>session_month</th>\n",
       "      <th>session_week</th>\n",
       "      <th>session_date</th>\n",
       "      <th>session_duration_sec</th>\n",
       "    </tr>\n",
       "  </thead>\n",
       "  <tbody>\n",
       "    <tr>\n",
       "      <td>0</td>\n",
       "      <td>touch</td>\n",
       "      <td>2017-12-20 17:38:00</td>\n",
       "      <td>4</td>\n",
       "      <td>2017-12-20 17:20:00</td>\n",
       "      <td>16879256277535980062</td>\n",
       "      <td>2017</td>\n",
       "      <td>12</td>\n",
       "      <td>51</td>\n",
       "      <td>2017-12-20</td>\n",
       "      <td>1080</td>\n",
       "    </tr>\n",
       "    <tr>\n",
       "      <td>1</td>\n",
       "      <td>desktop</td>\n",
       "      <td>2018-02-19 17:21:00</td>\n",
       "      <td>2</td>\n",
       "      <td>2018-02-19 16:53:00</td>\n",
       "      <td>104060357244891740</td>\n",
       "      <td>2018</td>\n",
       "      <td>2</td>\n",
       "      <td>8</td>\n",
       "      <td>2018-02-19</td>\n",
       "      <td>1680</td>\n",
       "    </tr>\n",
       "    <tr>\n",
       "      <td>2</td>\n",
       "      <td>touch</td>\n",
       "      <td>2017-07-01 01:54:00</td>\n",
       "      <td>5</td>\n",
       "      <td>2017-07-01 01:54:00</td>\n",
       "      <td>7459035603376831527</td>\n",
       "      <td>2017</td>\n",
       "      <td>7</td>\n",
       "      <td>26</td>\n",
       "      <td>2017-07-01</td>\n",
       "      <td>0</td>\n",
       "    </tr>\n",
       "    <tr>\n",
       "      <td>3</td>\n",
       "      <td>desktop</td>\n",
       "      <td>2018-05-20 11:23:00</td>\n",
       "      <td>9</td>\n",
       "      <td>2018-05-20 10:59:00</td>\n",
       "      <td>16174680259334210214</td>\n",
       "      <td>2018</td>\n",
       "      <td>5</td>\n",
       "      <td>20</td>\n",
       "      <td>2018-05-20</td>\n",
       "      <td>1440</td>\n",
       "    </tr>\n",
       "    <tr>\n",
       "      <td>4</td>\n",
       "      <td>desktop</td>\n",
       "      <td>2017-12-27 14:06:00</td>\n",
       "      <td>3</td>\n",
       "      <td>2017-12-27 14:06:00</td>\n",
       "      <td>9969694820036681168</td>\n",
       "      <td>2017</td>\n",
       "      <td>12</td>\n",
       "      <td>52</td>\n",
       "      <td>2017-12-27</td>\n",
       "      <td>0</td>\n",
       "    </tr>\n",
       "    <tr>\n",
       "      <td>...</td>\n",
       "      <td>...</td>\n",
       "      <td>...</td>\n",
       "      <td>...</td>\n",
       "      <td>...</td>\n",
       "      <td>...</td>\n",
       "      <td>...</td>\n",
       "      <td>...</td>\n",
       "      <td>...</td>\n",
       "      <td>...</td>\n",
       "      <td>...</td>\n",
       "    </tr>\n",
       "    <tr>\n",
       "      <td>359395</td>\n",
       "      <td>desktop</td>\n",
       "      <td>2017-07-29 19:07:19</td>\n",
       "      <td>2</td>\n",
       "      <td>2017-07-29 19:07:00</td>\n",
       "      <td>18363291481961487539</td>\n",
       "      <td>2017</td>\n",
       "      <td>7</td>\n",
       "      <td>30</td>\n",
       "      <td>2017-07-29</td>\n",
       "      <td>19</td>\n",
       "    </tr>\n",
       "    <tr>\n",
       "      <td>359396</td>\n",
       "      <td>touch</td>\n",
       "      <td>2018-01-25 17:38:19</td>\n",
       "      <td>1</td>\n",
       "      <td>2018-01-25 17:38:00</td>\n",
       "      <td>18370831553019119586</td>\n",
       "      <td>2018</td>\n",
       "      <td>1</td>\n",
       "      <td>4</td>\n",
       "      <td>2018-01-25</td>\n",
       "      <td>19</td>\n",
       "    </tr>\n",
       "    <tr>\n",
       "      <td>359397</td>\n",
       "      <td>desktop</td>\n",
       "      <td>2018-03-03 10:12:19</td>\n",
       "      <td>4</td>\n",
       "      <td>2018-03-03 10:12:00</td>\n",
       "      <td>18387297585500748294</td>\n",
       "      <td>2018</td>\n",
       "      <td>3</td>\n",
       "      <td>9</td>\n",
       "      <td>2018-03-03</td>\n",
       "      <td>19</td>\n",
       "    </tr>\n",
       "    <tr>\n",
       "      <td>359398</td>\n",
       "      <td>desktop</td>\n",
       "      <td>2017-11-02 10:12:19</td>\n",
       "      <td>5</td>\n",
       "      <td>2017-11-02 10:12:00</td>\n",
       "      <td>18388616944624776485</td>\n",
       "      <td>2017</td>\n",
       "      <td>11</td>\n",
       "      <td>44</td>\n",
       "      <td>2017-11-02</td>\n",
       "      <td>19</td>\n",
       "    </tr>\n",
       "    <tr>\n",
       "      <td>359399</td>\n",
       "      <td>touch</td>\n",
       "      <td>2017-09-10 13:13:19</td>\n",
       "      <td>2</td>\n",
       "      <td>2017-09-10 13:13:00</td>\n",
       "      <td>18396128934054549559</td>\n",
       "      <td>2017</td>\n",
       "      <td>9</td>\n",
       "      <td>36</td>\n",
       "      <td>2017-09-10</td>\n",
       "      <td>19</td>\n",
       "    </tr>\n",
       "  </tbody>\n",
       "</table>\n",
       "<p>359400 rows × 10 columns</p>\n",
       "</div>"
      ],
      "text/plain": [
       "         device              end_ts  source_id            start_ts  \\\n",
       "0         touch 2017-12-20 17:38:00          4 2017-12-20 17:20:00   \n",
       "1       desktop 2018-02-19 17:21:00          2 2018-02-19 16:53:00   \n",
       "2         touch 2017-07-01 01:54:00          5 2017-07-01 01:54:00   \n",
       "3       desktop 2018-05-20 11:23:00          9 2018-05-20 10:59:00   \n",
       "4       desktop 2017-12-27 14:06:00          3 2017-12-27 14:06:00   \n",
       "...         ...                 ...        ...                 ...   \n",
       "359395  desktop 2017-07-29 19:07:19          2 2017-07-29 19:07:00   \n",
       "359396    touch 2018-01-25 17:38:19          1 2018-01-25 17:38:00   \n",
       "359397  desktop 2018-03-03 10:12:19          4 2018-03-03 10:12:00   \n",
       "359398  desktop 2017-11-02 10:12:19          5 2017-11-02 10:12:00   \n",
       "359399    touch 2017-09-10 13:13:19          2 2017-09-10 13:13:00   \n",
       "\n",
       "                         uid  session_year  session_month  session_week  \\\n",
       "0       16879256277535980062          2017             12            51   \n",
       "1         104060357244891740          2018              2             8   \n",
       "2        7459035603376831527          2017              7            26   \n",
       "3       16174680259334210214          2018              5            20   \n",
       "4        9969694820036681168          2017             12            52   \n",
       "...                      ...           ...            ...           ...   \n",
       "359395  18363291481961487539          2017              7            30   \n",
       "359396  18370831553019119586          2018              1             4   \n",
       "359397  18387297585500748294          2018              3             9   \n",
       "359398  18388616944624776485          2017             11            44   \n",
       "359399  18396128934054549559          2017              9            36   \n",
       "\n",
       "       session_date  session_duration_sec  \n",
       "0        2017-12-20                  1080  \n",
       "1        2018-02-19                  1680  \n",
       "2        2017-07-01                     0  \n",
       "3        2018-05-20                  1440  \n",
       "4        2017-12-27                     0  \n",
       "...             ...                   ...  \n",
       "359395   2017-07-29                    19  \n",
       "359396   2018-01-25                    19  \n",
       "359397   2018-03-03                    19  \n",
       "359398   2017-11-02                    19  \n",
       "359399   2017-09-10                    19  \n",
       "\n",
       "[359400 rows x 10 columns]"
      ]
     },
     "execution_count": 23,
     "metadata": {},
     "output_type": "execute_result"
    }
   ],
   "source": [
    "visits"
   ]
  },
  {
   "cell_type": "code",
   "execution_count": 24,
   "metadata": {},
   "outputs": [
    {
     "data": {
      "text/html": [
       "<div>\n",
       "<style scoped>\n",
       "    .dataframe tbody tr th:only-of-type {\n",
       "        vertical-align: middle;\n",
       "    }\n",
       "\n",
       "    .dataframe tbody tr th {\n",
       "        vertical-align: top;\n",
       "    }\n",
       "\n",
       "    .dataframe thead th {\n",
       "        text-align: right;\n",
       "    }\n",
       "</style>\n",
       "<table border=\"1\" class=\"dataframe\">\n",
       "  <thead>\n",
       "    <tr style=\"text-align: right;\">\n",
       "      <th></th>\n",
       "      <th>device</th>\n",
       "      <th>end_ts</th>\n",
       "      <th>source_id</th>\n",
       "      <th>start_ts</th>\n",
       "      <th>uid</th>\n",
       "      <th>session_year</th>\n",
       "      <th>session_month</th>\n",
       "      <th>session_week</th>\n",
       "      <th>session_date</th>\n",
       "    </tr>\n",
       "  </thead>\n",
       "  <tbody>\n",
       "    <tr>\n",
       "      <td>0</td>\n",
       "      <td>touch</td>\n",
       "      <td>2017-12-20 17:38:00</td>\n",
       "      <td>4</td>\n",
       "      <td>2017-12-20 17:20:00</td>\n",
       "      <td>16879256277535980062</td>\n",
       "      <td>2017</td>\n",
       "      <td>12</td>\n",
       "      <td>51</td>\n",
       "      <td>2017-12-20</td>\n",
       "    </tr>\n",
       "    <tr>\n",
       "      <td>2</td>\n",
       "      <td>touch</td>\n",
       "      <td>2017-07-01 01:54:00</td>\n",
       "      <td>5</td>\n",
       "      <td>2017-07-01 01:54:00</td>\n",
       "      <td>7459035603376831527</td>\n",
       "      <td>2017</td>\n",
       "      <td>7</td>\n",
       "      <td>26</td>\n",
       "      <td>2017-07-01</td>\n",
       "    </tr>\n",
       "    <tr>\n",
       "      <td>7</td>\n",
       "      <td>touch</td>\n",
       "      <td>2017-11-05 15:15:00</td>\n",
       "      <td>3</td>\n",
       "      <td>2017-11-05 15:14:00</td>\n",
       "      <td>11423865690854540312</td>\n",
       "      <td>2017</td>\n",
       "      <td>11</td>\n",
       "      <td>44</td>\n",
       "      <td>2017-11-05</td>\n",
       "    </tr>\n",
       "    <tr>\n",
       "      <td>14</td>\n",
       "      <td>touch</td>\n",
       "      <td>2018-04-23 18:01:00</td>\n",
       "      <td>9</td>\n",
       "      <td>2018-04-23 18:00:00</td>\n",
       "      <td>18026419100367255411</td>\n",
       "      <td>2018</td>\n",
       "      <td>4</td>\n",
       "      <td>17</td>\n",
       "      <td>2018-04-23</td>\n",
       "    </tr>\n",
       "    <tr>\n",
       "      <td>15</td>\n",
       "      <td>touch</td>\n",
       "      <td>2018-02-12 20:30:00</td>\n",
       "      <td>2</td>\n",
       "      <td>2018-02-12 19:24:00</td>\n",
       "      <td>18188358787673499603</td>\n",
       "      <td>2018</td>\n",
       "      <td>2</td>\n",
       "      <td>7</td>\n",
       "      <td>2018-02-12</td>\n",
       "    </tr>\n",
       "    <tr>\n",
       "      <td>...</td>\n",
       "      <td>...</td>\n",
       "      <td>...</td>\n",
       "      <td>...</td>\n",
       "      <td>...</td>\n",
       "      <td>...</td>\n",
       "      <td>...</td>\n",
       "      <td>...</td>\n",
       "      <td>...</td>\n",
       "      <td>...</td>\n",
       "    </tr>\n",
       "    <tr>\n",
       "      <td>359386</td>\n",
       "      <td>touch</td>\n",
       "      <td>2017-09-15 21:14:19</td>\n",
       "      <td>2</td>\n",
       "      <td>2017-09-15 21:14:00</td>\n",
       "      <td>18176348973341832326</td>\n",
       "      <td>2017</td>\n",
       "      <td>9</td>\n",
       "      <td>37</td>\n",
       "      <td>2017-09-15</td>\n",
       "    </tr>\n",
       "    <tr>\n",
       "      <td>359391</td>\n",
       "      <td>touch</td>\n",
       "      <td>2017-08-30 11:53:19</td>\n",
       "      <td>2</td>\n",
       "      <td>2017-08-30 11:53:00</td>\n",
       "      <td>18304232853749481866</td>\n",
       "      <td>2017</td>\n",
       "      <td>8</td>\n",
       "      <td>35</td>\n",
       "      <td>2017-08-30</td>\n",
       "    </tr>\n",
       "    <tr>\n",
       "      <td>359394</td>\n",
       "      <td>touch</td>\n",
       "      <td>2017-11-06 08:00:19</td>\n",
       "      <td>4</td>\n",
       "      <td>2017-11-06 08:00:00</td>\n",
       "      <td>18332905065174083046</td>\n",
       "      <td>2017</td>\n",
       "      <td>11</td>\n",
       "      <td>45</td>\n",
       "      <td>2017-11-06</td>\n",
       "    </tr>\n",
       "    <tr>\n",
       "      <td>359396</td>\n",
       "      <td>touch</td>\n",
       "      <td>2018-01-25 17:38:19</td>\n",
       "      <td>1</td>\n",
       "      <td>2018-01-25 17:38:00</td>\n",
       "      <td>18370831553019119586</td>\n",
       "      <td>2018</td>\n",
       "      <td>1</td>\n",
       "      <td>4</td>\n",
       "      <td>2018-01-25</td>\n",
       "    </tr>\n",
       "    <tr>\n",
       "      <td>359399</td>\n",
       "      <td>touch</td>\n",
       "      <td>2017-09-10 13:13:19</td>\n",
       "      <td>2</td>\n",
       "      <td>2017-09-10 13:13:00</td>\n",
       "      <td>18396128934054549559</td>\n",
       "      <td>2017</td>\n",
       "      <td>9</td>\n",
       "      <td>36</td>\n",
       "      <td>2017-09-10</td>\n",
       "    </tr>\n",
       "  </tbody>\n",
       "</table>\n",
       "<p>96833 rows × 9 columns</p>\n",
       "</div>"
      ],
      "text/plain": [
       "       device              end_ts  source_id            start_ts  \\\n",
       "0       touch 2017-12-20 17:38:00          4 2017-12-20 17:20:00   \n",
       "2       touch 2017-07-01 01:54:00          5 2017-07-01 01:54:00   \n",
       "7       touch 2017-11-05 15:15:00          3 2017-11-05 15:14:00   \n",
       "14      touch 2018-04-23 18:01:00          9 2018-04-23 18:00:00   \n",
       "15      touch 2018-02-12 20:30:00          2 2018-02-12 19:24:00   \n",
       "...       ...                 ...        ...                 ...   \n",
       "359386  touch 2017-09-15 21:14:19          2 2017-09-15 21:14:00   \n",
       "359391  touch 2017-08-30 11:53:19          2 2017-08-30 11:53:00   \n",
       "359394  touch 2017-11-06 08:00:19          4 2017-11-06 08:00:00   \n",
       "359396  touch 2018-01-25 17:38:19          1 2018-01-25 17:38:00   \n",
       "359399  touch 2017-09-10 13:13:19          2 2017-09-10 13:13:00   \n",
       "\n",
       "                         uid  session_year  session_month  session_week  \\\n",
       "0       16879256277535980062          2017             12            51   \n",
       "2        7459035603376831527          2017              7            26   \n",
       "7       11423865690854540312          2017             11            44   \n",
       "14      18026419100367255411          2018              4            17   \n",
       "15      18188358787673499603          2018              2             7   \n",
       "...                      ...           ...            ...           ...   \n",
       "359386  18176348973341832326          2017              9            37   \n",
       "359391  18304232853749481866          2017              8            35   \n",
       "359394  18332905065174083046          2017             11            45   \n",
       "359396  18370831553019119586          2018              1             4   \n",
       "359399  18396128934054549559          2017              9            36   \n",
       "\n",
       "       session_date  \n",
       "0        2017-12-20  \n",
       "2        2017-07-01  \n",
       "7        2017-11-05  \n",
       "14       2018-04-23  \n",
       "15       2018-02-12  \n",
       "...             ...  \n",
       "359386   2017-09-15  \n",
       "359391   2017-08-30  \n",
       "359394   2017-11-06  \n",
       "359396   2018-01-25  \n",
       "359399   2017-09-10  \n",
       "\n",
       "[96833 rows x 9 columns]"
      ]
     },
     "execution_count": 24,
     "metadata": {},
     "output_type": "execute_result"
    }
   ],
   "source": [
    "touch"
   ]
  },
  {
   "cell_type": "code",
   "execution_count": 25,
   "metadata": {},
   "outputs": [
    {
     "name": "stderr",
     "output_type": "stream",
     "text": [
      "/opt/conda/lib/python3.7/site-packages/ipykernel_launcher.py:2: SettingWithCopyWarning: \n",
      "A value is trying to be set on a copy of a slice from a DataFrame.\n",
      "Try using .loc[row_indexer,col_indexer] = value instead\n",
      "\n",
      "See the caveats in the documentation: http://pandas.pydata.org/pandas-docs/stable/user_guide/indexing.html#returning-a-view-versus-a-copy\n",
      "  \n",
      "/opt/conda/lib/python3.7/site-packages/ipykernel_launcher.py:3: SettingWithCopyWarning: \n",
      "A value is trying to be set on a copy of a slice from a DataFrame.\n",
      "Try using .loc[row_indexer,col_indexer] = value instead\n",
      "\n",
      "See the caveats in the documentation: http://pandas.pydata.org/pandas-docs/stable/user_guide/indexing.html#returning-a-view-versus-a-copy\n",
      "  This is separate from the ipykernel package so we can avoid doing imports until\n"
     ]
    },
    {
     "data": {
      "image/png": "[encoded data removed]",
      "text/plain": [
       "<Figure size 432x288 with 1 Axes>"
      ]
     },
     "metadata": {
      "needs_background": "light"
     },
     "output_type": "display_data"
    },
    {
     "data": {
      "text/plain": [
       "Text(0.5, 1.0, 'Длительность сесиии с desktop девайсов')"
      ]
     },
     "execution_count": 25,
     "metadata": {},
     "output_type": "execute_result"
    },
    {
     "data": {
      "image/png": "[encoded data removed]",
      "text/plain": [
       "<Figure size 432x288 with 1 Axes>"
      ]
     },
     "metadata": {
      "needs_background": "light"
     },
     "output_type": "display_data"
    }
   ],
   "source": [
    "# посмотрим на длину сессий в секундах по каждому из девайсов\n",
    "touch['session_duration_sec'] = (touch['end_ts'] - touch['start_ts']).dt.seconds\n",
    "desktop['session_duration_sec'] = (desktop['end_ts'] - desktop['start_ts']).dt.seconds\n",
    "touch['session_duration_sec'].hist(bins=80,range=(0,4000)).set_title('Длительность сесиии с touch девайсов')\n",
    "plt.show()\n",
    "desktop['session_duration_sec'].hist(bins=80,range=(0,4000)).set_title('Длительность сесиии с desktop девайсов')"
   ]
  },
  {
   "cell_type": "markdown",
   "metadata": {},
   "source": [
    "* Распределение по desktop и touch по форме схожи. Сессий с desktop девайсов не только более чем в два раза больше, чем сессий с touch девайсов, но большинство desktop-сессий еще и длится в два раза дольше."
   ]
  },
  {
   "cell_type": "markdown",
   "metadata": {},
   "source": [
    "* Для ответа на этот вопрос посчитаем метрику Retention Rate, которая показывает, сколько пользователей из когорты относительно их изначального числа вернулось в последующие периоды."
   ]
  },
  {
   "cell_type": "markdown",
   "metadata": {},
   "source": [
    "* Определим событие и период, сформируем когорту."
   ]
  },
  {
   "cell_type": "code",
   "execution_count": 26,
   "metadata": {},
   "outputs": [],
   "source": [
    "# возьмём дату, когда пользователь впервые проявил активность на сайте\n",
    "first_visit = visits.groupby(['uid'])['start_ts'].min()\n",
    "first_visit.name = 'first_visit'\n",
    "# объединим с исходным датафреймом\n",
    "visits = visits.join(first_visit, on = 'uid')\n",
    "# формируем когорту за месяц \n",
    "visits['visit_month'] = visits['start_ts'].astype('datetime64[M]')\n",
    "visits['first_visit_month'] = visits['first_visit'].astype('datetime64[M]')\n",
    "#рассчитаем lifetime пользователей когорты\n",
    "visits['cohort_lifetime'] = visits['visit_month'] - visits['first_visit_month']\n",
    "visits['cohort_lifetime'] = visits['cohort_lifetime'] / np.timedelta64(1,'M')\n",
    "visits['cohort_lifetime'] = visits['cohort_lifetime'].round()\n",
    "# cгруппируем данные по когорте и lifetime. Посчитаем для каждой когорты количество активных пользователей в месяц\n",
    "cohorts = visits.groupby(['first_visit_month','cohort_lifetime']).agg({'uid':'nunique'}).reset_index()\n",
    "# найдём исходное количество пользователей в когорте\n",
    "initial_users_count = cohorts[cohorts['cohort_lifetime'] == 0][['first_visit_month','uid']]\n",
    "# переименуем \n",
    "initial_users_count = initial_users_count.rename(columns={'uid':'cohort_users'})\n",
    "# объединим данные по когортам с исходным количеством пользователей в когорте\n",
    "cohorts = cohorts.merge(initial_users_count,on='first_visit_month')"
   ]
  },
  {
   "cell_type": "markdown",
   "metadata": {},
   "source": [
    "* Рассчитаем Retention Rate"
   ]
  },
  {
   "cell_type": "code",
   "execution_count": 27,
   "metadata": {},
   "outputs": [
    {
     "data": {
      "text/html": [
       "<div>\n",
       "<style scoped>\n",
       "    .dataframe tbody tr th:only-of-type {\n",
       "        vertical-align: middle;\n",
       "    }\n",
       "\n",
       "    .dataframe tbody tr th {\n",
       "        vertical-align: top;\n",
       "    }\n",
       "\n",
       "    .dataframe thead th {\n",
       "        text-align: right;\n",
       "    }\n",
       "</style>\n",
       "<table border=\"1\" class=\"dataframe\">\n",
       "  <thead>\n",
       "    <tr style=\"text-align: right;\">\n",
       "      <th>cohort_lifetime</th>\n",
       "      <th>0.0</th>\n",
       "      <th>1.0</th>\n",
       "      <th>2.0</th>\n",
       "      <th>3.0</th>\n",
       "      <th>4.0</th>\n",
       "      <th>5.0</th>\n",
       "      <th>6.0</th>\n",
       "      <th>7.0</th>\n",
       "      <th>8.0</th>\n",
       "      <th>9.0</th>\n",
       "      <th>10.0</th>\n",
       "      <th>11.0</th>\n",
       "    </tr>\n",
       "    <tr>\n",
       "      <th>first_visit_month</th>\n",
       "      <th></th>\n",
       "      <th></th>\n",
       "      <th></th>\n",
       "      <th></th>\n",
       "      <th></th>\n",
       "      <th></th>\n",
       "      <th></th>\n",
       "      <th></th>\n",
       "      <th></th>\n",
       "      <th></th>\n",
       "      <th></th>\n",
       "      <th></th>\n",
       "    </tr>\n",
       "  </thead>\n",
       "  <tbody>\n",
       "    <tr>\n",
       "      <td>2017-06-01</td>\n",
       "      <td>1.0</td>\n",
       "      <td>0.078664</td>\n",
       "      <td>0.053775</td>\n",
       "      <td>0.061392</td>\n",
       "      <td>0.068557</td>\n",
       "      <td>0.071423</td>\n",
       "      <td>0.061015</td>\n",
       "      <td>0.057772</td>\n",
       "      <td>0.052342</td>\n",
       "      <td>0.050833</td>\n",
       "      <td>0.040652</td>\n",
       "      <td>0.044951</td>\n",
       "    </tr>\n",
       "    <tr>\n",
       "      <td>2017-07-01</td>\n",
       "      <td>1.0</td>\n",
       "      <td>0.056088</td>\n",
       "      <td>0.051294</td>\n",
       "      <td>0.056164</td>\n",
       "      <td>0.058219</td>\n",
       "      <td>0.048174</td>\n",
       "      <td>0.045358</td>\n",
       "      <td>0.045738</td>\n",
       "      <td>0.038813</td>\n",
       "      <td>0.028615</td>\n",
       "      <td>0.027473</td>\n",
       "      <td>NaN</td>\n",
       "    </tr>\n",
       "    <tr>\n",
       "      <td>2017-08-01</td>\n",
       "      <td>1.0</td>\n",
       "      <td>0.076908</td>\n",
       "      <td>0.062862</td>\n",
       "      <td>0.062764</td>\n",
       "      <td>0.050093</td>\n",
       "      <td>0.044004</td>\n",
       "      <td>0.036342</td>\n",
       "      <td>0.039485</td>\n",
       "      <td>0.027895</td>\n",
       "      <td>0.026029</td>\n",
       "      <td>NaN</td>\n",
       "      <td>NaN</td>\n",
       "    </tr>\n",
       "    <tr>\n",
       "      <td>2017-09-01</td>\n",
       "      <td>1.0</td>\n",
       "      <td>0.085489</td>\n",
       "      <td>0.069205</td>\n",
       "      <td>0.050706</td>\n",
       "      <td>0.039392</td>\n",
       "      <td>0.037835</td>\n",
       "      <td>0.035860</td>\n",
       "      <td>0.024186</td>\n",
       "      <td>0.022809</td>\n",
       "      <td>NaN</td>\n",
       "      <td>NaN</td>\n",
       "      <td>NaN</td>\n",
       "    </tr>\n",
       "    <tr>\n",
       "      <td>2017-10-01</td>\n",
       "      <td>1.0</td>\n",
       "      <td>0.078608</td>\n",
       "      <td>0.052239</td>\n",
       "      <td>0.038958</td>\n",
       "      <td>0.034261</td>\n",
       "      <td>0.032221</td>\n",
       "      <td>0.021365</td>\n",
       "      <td>0.020364</td>\n",
       "      <td>NaN</td>\n",
       "      <td>NaN</td>\n",
       "      <td>NaN</td>\n",
       "      <td>NaN</td>\n",
       "    </tr>\n",
       "    <tr>\n",
       "      <td>2017-11-01</td>\n",
       "      <td>1.0</td>\n",
       "      <td>0.078281</td>\n",
       "      <td>0.044113</td>\n",
       "      <td>0.038682</td>\n",
       "      <td>0.033727</td>\n",
       "      <td>0.023415</td>\n",
       "      <td>0.021800</td>\n",
       "      <td>NaN</td>\n",
       "      <td>NaN</td>\n",
       "      <td>NaN</td>\n",
       "      <td>NaN</td>\n",
       "      <td>NaN</td>\n",
       "    </tr>\n",
       "    <tr>\n",
       "      <td>2017-12-01</td>\n",
       "      <td>1.0</td>\n",
       "      <td>0.055802</td>\n",
       "      <td>0.037993</td>\n",
       "      <td>0.031107</td>\n",
       "      <td>0.020263</td>\n",
       "      <td>0.019036</td>\n",
       "      <td>NaN</td>\n",
       "      <td>NaN</td>\n",
       "      <td>NaN</td>\n",
       "      <td>NaN</td>\n",
       "      <td>NaN</td>\n",
       "      <td>NaN</td>\n",
       "    </tr>\n",
       "    <tr>\n",
       "      <td>2018-01-01</td>\n",
       "      <td>1.0</td>\n",
       "      <td>0.059715</td>\n",
       "      <td>0.039339</td>\n",
       "      <td>0.024973</td>\n",
       "      <td>0.020244</td>\n",
       "      <td>NaN</td>\n",
       "      <td>NaN</td>\n",
       "      <td>NaN</td>\n",
       "      <td>NaN</td>\n",
       "      <td>NaN</td>\n",
       "      <td>NaN</td>\n",
       "      <td>NaN</td>\n",
       "    </tr>\n",
       "    <tr>\n",
       "      <td>2018-02-01</td>\n",
       "      <td>1.0</td>\n",
       "      <td>0.057080</td>\n",
       "      <td>0.025454</td>\n",
       "      <td>0.020093</td>\n",
       "      <td>NaN</td>\n",
       "      <td>NaN</td>\n",
       "      <td>NaN</td>\n",
       "      <td>NaN</td>\n",
       "      <td>NaN</td>\n",
       "      <td>NaN</td>\n",
       "      <td>NaN</td>\n",
       "      <td>NaN</td>\n",
       "    </tr>\n",
       "    <tr>\n",
       "      <td>2018-03-01</td>\n",
       "      <td>1.0</td>\n",
       "      <td>0.041818</td>\n",
       "      <td>0.027053</td>\n",
       "      <td>NaN</td>\n",
       "      <td>NaN</td>\n",
       "      <td>NaN</td>\n",
       "      <td>NaN</td>\n",
       "      <td>NaN</td>\n",
       "      <td>NaN</td>\n",
       "      <td>NaN</td>\n",
       "      <td>NaN</td>\n",
       "      <td>NaN</td>\n",
       "    </tr>\n",
       "    <tr>\n",
       "      <td>2018-04-01</td>\n",
       "      <td>1.0</td>\n",
       "      <td>0.048380</td>\n",
       "      <td>NaN</td>\n",
       "      <td>NaN</td>\n",
       "      <td>NaN</td>\n",
       "      <td>NaN</td>\n",
       "      <td>NaN</td>\n",
       "      <td>NaN</td>\n",
       "      <td>NaN</td>\n",
       "      <td>NaN</td>\n",
       "      <td>NaN</td>\n",
       "      <td>NaN</td>\n",
       "    </tr>\n",
       "    <tr>\n",
       "      <td>2018-05-01</td>\n",
       "      <td>1.0</td>\n",
       "      <td>NaN</td>\n",
       "      <td>NaN</td>\n",
       "      <td>NaN</td>\n",
       "      <td>NaN</td>\n",
       "      <td>NaN</td>\n",
       "      <td>NaN</td>\n",
       "      <td>NaN</td>\n",
       "      <td>NaN</td>\n",
       "      <td>NaN</td>\n",
       "      <td>NaN</td>\n",
       "      <td>NaN</td>\n",
       "    </tr>\n",
       "  </tbody>\n",
       "</table>\n",
       "</div>"
      ],
      "text/plain": [
       "cohort_lifetime    0.0       1.0       2.0       3.0       4.0       5.0   \\\n",
       "first_visit_month                                                           \n",
       "2017-06-01          1.0  0.078664  0.053775  0.061392  0.068557  0.071423   \n",
       "2017-07-01          1.0  0.056088  0.051294  0.056164  0.058219  0.048174   \n",
       "2017-08-01          1.0  0.076908  0.062862  0.062764  0.050093  0.044004   \n",
       "2017-09-01          1.0  0.085489  0.069205  0.050706  0.039392  0.037835   \n",
       "2017-10-01          1.0  0.078608  0.052239  0.038958  0.034261  0.032221   \n",
       "2017-11-01          1.0  0.078281  0.044113  0.038682  0.033727  0.023415   \n",
       "2017-12-01          1.0  0.055802  0.037993  0.031107  0.020263  0.019036   \n",
       "2018-01-01          1.0  0.059715  0.039339  0.024973  0.020244       NaN   \n",
       "2018-02-01          1.0  0.057080  0.025454  0.020093       NaN       NaN   \n",
       "2018-03-01          1.0  0.041818  0.027053       NaN       NaN       NaN   \n",
       "2018-04-01          1.0  0.048380       NaN       NaN       NaN       NaN   \n",
       "2018-05-01          1.0       NaN       NaN       NaN       NaN       NaN   \n",
       "\n",
       "cohort_lifetime        6.0       7.0       8.0       9.0       10.0      11.0  \n",
       "first_visit_month                                                              \n",
       "2017-06-01         0.061015  0.057772  0.052342  0.050833  0.040652  0.044951  \n",
       "2017-07-01         0.045358  0.045738  0.038813  0.028615  0.027473       NaN  \n",
       "2017-08-01         0.036342  0.039485  0.027895  0.026029       NaN       NaN  \n",
       "2017-09-01         0.035860  0.024186  0.022809       NaN       NaN       NaN  \n",
       "2017-10-01         0.021365  0.020364       NaN       NaN       NaN       NaN  \n",
       "2017-11-01         0.021800       NaN       NaN       NaN       NaN       NaN  \n",
       "2017-12-01              NaN       NaN       NaN       NaN       NaN       NaN  \n",
       "2018-01-01              NaN       NaN       NaN       NaN       NaN       NaN  \n",
       "2018-02-01              NaN       NaN       NaN       NaN       NaN       NaN  \n",
       "2018-03-01              NaN       NaN       NaN       NaN       NaN       NaN  \n",
       "2018-04-01              NaN       NaN       NaN       NaN       NaN       NaN  \n",
       "2018-05-01              NaN       NaN       NaN       NaN       NaN       NaN  "
      ]
     },
     "metadata": {},
     "output_type": "display_data"
    }
   ],
   "source": [
    "# разделим количество активных пользователей в каждый месяц на исходное число пользователей в нашей когорте\n",
    "cohorts['retention'] = cohorts['uid']/cohorts['cohort_users']\n",
    "# создадим сводную таблицу и выведем ее\n",
    "retention_pivot = cohorts.pivot_table(index='first_visit_month',columns='cohort_lifetime',values='retention',aggfunc='sum')\n",
    "display(retention_pivot)"
   ]
  },
  {
   "cell_type": "markdown",
   "metadata": {},
   "source": [
    "* Создадим тепловую карту"
   ]
  },
  {
   "cell_type": "code",
   "execution_count": 28,
   "metadata": {},
   "outputs": [
    {
     "data": {
      "image/png": "[encoded data removed]",
      "text/plain": [
       "<Figure size 864x504 with 2 Axes>"
      ]
     },
     "metadata": {},
     "output_type": "display_data"
    }
   ],
   "source": [
    "sns.set(style='dark')\n",
    "plt.figure(figsize=(12, 7))\n",
    "plt.title('Retention rate')\n",
    "sns.heatmap(retention_pivot.iloc[:,1:], annot=True, fmt='.1%', linewidths=2, linecolor='white');"
   ]
  },
  {
   "cell_type": "markdown",
   "metadata": {},
   "source": [
    "* Retention Rate в первую неделю заметно убывает по когортам пришедшим после декабря. Если для когорты пользователей, пришедших в июле Retention Rate в первую неделю составляет 7.9%(видимо лучше всего мы привлекали пользователей во второй половине года), то для пользователей, пришедших после декабря — уже 5.6%. Так, за 6 месяцев коэффициент удержания упал более чем на 2.5 %. Возможно, были выбраны неэффективные источники трафика или ухудшилось качество работы службы поддержки. Это также подтвеждает сезонность."
   ]
  },
  {
   "cell_type": "markdown",
   "metadata": {},
   "source": [
    "* Вычислим первый день посещения сайта, день первого заказа и для них найдем разницу. Посмотрим на распределение"
   ]
  },
  {
   "cell_type": "code",
   "execution_count": 29,
   "metadata": {},
   "outputs": [
    {
     "data": {
      "image/png": "[encoded data removed]",
      "text/plain": [
       "<Figure size 432x288 with 1 Axes>"
      ]
     },
     "metadata": {},
     "output_type": "display_data"
    },
    {
     "name": "stdout",
     "output_type": "stream",
     "text": [
      "\n",
      "\n"
     ]
    },
    {
     "data": {
      "image/png": "[encoded data removed]",
      "text/plain": [
       "<Figure size 432x288 with 1 Axes>"
      ]
     },
     "metadata": {},
     "output_type": "display_data"
    }
   ],
   "source": [
    "# получаем первый день заказа\n",
    "orders['order_date'] = orders['buy_ts'].astype('datetime64[D]')\n",
    "first_orders_1 = orders.groupby('uid').agg({'order_date': 'min'}).reset_index()\n",
    "first_orders_1.columns = ['uid', 'first_order_date']\n",
    "# получаем первый день посещения сайта\n",
    "visits['visit_date'] = visits['start_ts'].astype('datetime64[D]')\n",
    "first_visits_1 = visits.groupby('uid').agg({'visit_date': 'min'}).reset_index()\n",
    "first_visits_1.columns = ['uid', 'first_visit_date']\n",
    "# обьединяем таблицы\n",
    "visits_orders = pd.merge(first_visits_1,first_orders_1, on='uid')\n",
    "visits_orders['days_spent'] = visits_orders['first_order_date'] - visits_orders['first_visit_date']\n",
    "visits_orders['days_spent'] = visits_orders['days_spent'] / np.timedelta64(1,'D')\n",
    "visits_orders['days_spent'] = visits_orders['days_spent'].round()\n",
    "#display(visits_orders.head(10))\n",
    "#print()\n",
    "visits_orders['days_spent'].hist(bins=10,range=(0,225)).set_title('сколько дней прошло')\n",
    "plt.show();\n",
    "print()\n",
    "first_orders_2 = orders.groupby('uid').agg({'buy_ts': 'min'}).reset_index()\n",
    "first_orders_2.columns = ['uid', 'first_order']\n",
    "# получаем первый день посещения сайта\n",
    "first_visits_2 = visits.groupby('uid').agg({'start_ts': 'min'}).reset_index()\n",
    "first_visits_2.columns = ['uid', 'first_visit']\n",
    "# обьединяем таблицы\n",
    "visits_orders_2 = pd.merge(first_visits_2,first_orders_2, on='uid')\n",
    "visits_orders_2['min_spent'] = visits_orders_2['first_order'] - visits_orders_2['first_visit']\n",
    "visits_orders_2['min_spent'] = visits_orders_2['min_spent'] / np.timedelta64(1,'m')\n",
    "visits_orders_2['min_spent'] = visits_orders_2['min_spent'].round()\n",
    "#display(visits_orders_2.head(10))\n",
    "print()\n",
    "visits_orders_2['min_spent'].hist(bins=15,range=(0,500)).set_title('сколько минут прошло')\n",
    "plt.show();"
   ]
  },
  {
   "cell_type": "markdown",
   "metadata": {},
   "source": [
    "* На гистограмме видно, что у большинства пользователей проходит 0-25 дней с момента первого посещения до заказа, что правдоподобно. Также есть посетители у которых c момента первого визита до заказа прошло до 175 дней, но они составляют незначительную часть от общего количества клиентов. Следует более детально изучить эту категорию и выяснить почему прошло так много времени, может были проблемы сайтом или им стоило напомнить оповещением на почту."
   ]
  },
  {
   "cell_type": "markdown",
   "metadata": {},
   "source": [
    "* На гистограмме в разбивке по минутам, прошедших с момента первого визита до покупки, видим, что у большинства посетителей сайта проходит от 0 до 20 минут между первым визитом и покупкой. Также видна очень малочисленная группа пользователей у которых проходит более 10000 минут с моммента визита до покупки. Следует изучить причины такого явления."
   ]
  },
  {
   "cell_type": "code",
   "execution_count": 30,
   "metadata": {
    "scrolled": true
   },
   "outputs": [
    {
     "data": {
      "image/png": "[encoded data removed]",
      "text/plain": [
       "<Figure size 864x576 with 1 Axes>"
      ]
     },
     "metadata": {},
     "output_type": "display_data"
    }
   ],
   "source": [
    "# извлекаем месяц заказа\n",
    "orders['order_month'] = orders['buy_ts'].astype('datetime64[M]')\n",
    "# группируем по месяцу и находим количество уникальных пользователей\n",
    "orders_2 = orders.groupby('order_month').agg({'uid':'count'}).reset_index()\n",
    "orders_2.plot(kind='line',x = 'order_month',y = 'uid',figsize=(12,8),grid=True)\n",
    "plt.xlabel('Месяц')\n",
    "plt.ylabel('Количество заказов');"
   ]
  },
  {
   "cell_type": "markdown",
   "metadata": {},
   "source": [
    "* В период июль-август, количество заказов снижалось и было минимальным(до 2000 заказов в месяц). А потом в период с августа до октября, количество заказов выросло более чем в 3 раза и к декабрю достигло максимума(более 6000 заказов за месяц), после которого опять начало снижаться. Скорее всего это связано с более активной рекламной компанией и привлечением пользователей."
   ]
  },
  {
   "cell_type": "markdown",
   "metadata": {},
   "source": [
    "* Поделим общую выручку на количество заказов за месяц, посмотрим как изменялся средний чек за каждый месяц "
   ]
  },
  {
   "cell_type": "code",
   "execution_count": 31,
   "metadata": {},
   "outputs": [
    {
     "data": {
      "text/plain": [
       "Text(0, 0.5, 'Средний чек')"
      ]
     },
     "execution_count": 31,
     "metadata": {},
     "output_type": "execute_result"
    },
    {
     "data": {
      "image/png": "[encoded data removed]",
      "text/plain": [
       "<Figure size 864x576 with 1 Axes>"
      ]
     },
     "metadata": {},
     "output_type": "display_data"
    }
   ],
   "source": [
    "orders_3 = orders.groupby('order_month').agg({'revenue':'mean'}).reset_index()\n",
    "orders_3['revenue'] = orders_3['revenue'].round()\n",
    "orders_3.plot(kind='line',x = 'order_month',y = 'revenue',figsize=(12,8),grid=True)\n",
    "plt.xlabel('Месяц')\n",
    "plt.ylabel('Средний чек')"
   ]
  },
  {
   "cell_type": "markdown",
   "metadata": {},
   "source": [
    "* Средний чек большую часть врмени составлял 5. В период с ноября до декабря средний чек вырос до 6 и в январе сразу упал ниже доростового уровня (2). Также заметно резкое снижение среднего чека в мае-июне до 3."
   ]
  },
  {
   "cell_type": "markdown",
   "metadata": {},
   "source": [
    "* Для ответа на это вопрос, рассчитаем метрику LTV. Она покажет итоговую сумму денег, которую один клиент приносит в среднем со всех своих покупок."
   ]
  },
  {
   "cell_type": "markdown",
   "metadata": {},
   "source": [
    "* Посчитаем LTV по когортам "
   ]
  },
  {
   "cell_type": "code",
   "execution_count": 32,
   "metadata": {},
   "outputs": [
    {
     "data": {
      "text/html": [
       "<div>\n",
       "<style scoped>\n",
       "    .dataframe tbody tr th:only-of-type {\n",
       "        vertical-align: middle;\n",
       "    }\n",
       "\n",
       "    .dataframe tbody tr th {\n",
       "        vertical-align: top;\n",
       "    }\n",
       "\n",
       "    .dataframe thead th {\n",
       "        text-align: right;\n",
       "    }\n",
       "</style>\n",
       "<table border=\"1\" class=\"dataframe\">\n",
       "  <thead>\n",
       "    <tr style=\"text-align: right;\">\n",
       "      <th></th>\n",
       "      <th>first_order_month</th>\n",
       "      <th>n_buyers</th>\n",
       "      <th>order_month</th>\n",
       "      <th>revenue</th>\n",
       "    </tr>\n",
       "  </thead>\n",
       "  <tbody>\n",
       "    <tr>\n",
       "      <td>0</td>\n",
       "      <td>2017-06-01</td>\n",
       "      <td>2023</td>\n",
       "      <td>2017-06-01</td>\n",
       "      <td>9557.49</td>\n",
       "    </tr>\n",
       "    <tr>\n",
       "      <td>1</td>\n",
       "      <td>2017-06-01</td>\n",
       "      <td>2023</td>\n",
       "      <td>2017-07-01</td>\n",
       "      <td>981.82</td>\n",
       "    </tr>\n",
       "    <tr>\n",
       "      <td>2</td>\n",
       "      <td>2017-06-01</td>\n",
       "      <td>2023</td>\n",
       "      <td>2017-08-01</td>\n",
       "      <td>885.34</td>\n",
       "    </tr>\n",
       "    <tr>\n",
       "      <td>3</td>\n",
       "      <td>2017-06-01</td>\n",
       "      <td>2023</td>\n",
       "      <td>2017-09-01</td>\n",
       "      <td>1931.30</td>\n",
       "    </tr>\n",
       "    <tr>\n",
       "      <td>4</td>\n",
       "      <td>2017-06-01</td>\n",
       "      <td>2023</td>\n",
       "      <td>2017-10-01</td>\n",
       "      <td>2068.58</td>\n",
       "    </tr>\n",
       "    <tr>\n",
       "      <td>...</td>\n",
       "      <td>...</td>\n",
       "      <td>...</td>\n",
       "      <td>...</td>\n",
       "      <td>...</td>\n",
       "    </tr>\n",
       "    <tr>\n",
       "      <td>74</td>\n",
       "      <td>2018-03-01</td>\n",
       "      <td>3533</td>\n",
       "      <td>2018-05-01</td>\n",
       "      <td>1114.87</td>\n",
       "    </tr>\n",
       "    <tr>\n",
       "      <td>75</td>\n",
       "      <td>2018-04-01</td>\n",
       "      <td>2276</td>\n",
       "      <td>2018-04-01</td>\n",
       "      <td>10600.69</td>\n",
       "    </tr>\n",
       "    <tr>\n",
       "      <td>76</td>\n",
       "      <td>2018-04-01</td>\n",
       "      <td>2276</td>\n",
       "      <td>2018-05-01</td>\n",
       "      <td>1209.92</td>\n",
       "    </tr>\n",
       "    <tr>\n",
       "      <td>77</td>\n",
       "      <td>2018-05-01</td>\n",
       "      <td>2988</td>\n",
       "      <td>2018-05-01</td>\n",
       "      <td>13925.76</td>\n",
       "    </tr>\n",
       "    <tr>\n",
       "      <td>78</td>\n",
       "      <td>2018-06-01</td>\n",
       "      <td>1</td>\n",
       "      <td>2018-06-01</td>\n",
       "      <td>3.42</td>\n",
       "    </tr>\n",
       "  </tbody>\n",
       "</table>\n",
       "<p>79 rows × 4 columns</p>\n",
       "</div>"
      ],
      "text/plain": [
       "   first_order_month  n_buyers order_month   revenue\n",
       "0         2017-06-01      2023  2017-06-01   9557.49\n",
       "1         2017-06-01      2023  2017-07-01    981.82\n",
       "2         2017-06-01      2023  2017-08-01    885.34\n",
       "3         2017-06-01      2023  2017-09-01   1931.30\n",
       "4         2017-06-01      2023  2017-10-01   2068.58\n",
       "..               ...       ...         ...       ...\n",
       "74        2018-03-01      3533  2018-05-01   1114.87\n",
       "75        2018-04-01      2276  2018-04-01  10600.69\n",
       "76        2018-04-01      2276  2018-05-01   1209.92\n",
       "77        2018-05-01      2988  2018-05-01  13925.76\n",
       "78        2018-06-01         1  2018-06-01      3.42\n",
       "\n",
       "[79 rows x 4 columns]"
      ]
     },
     "metadata": {},
     "output_type": "display_data"
    }
   ],
   "source": [
    "# формируем когорты по месяцу\n",
    "orders['order_month'] = orders['buy_ts'].astype('datetime64[M]')\n",
    "costs['month'] = costs['dt'].astype('datetime64[M]') \n",
    "# получим месяц первой покупки каждого покупателя\n",
    "first_orders = orders.groupby('uid').agg({'order_month': 'min'}).reset_index()\n",
    "first_orders.columns = ['uid', 'first_order_month']\n",
    "# посчитаем количество новых покупателей 'n_buyers' за каждый месяц\n",
    "cohort_sizes = first_orders.groupby('first_order_month').agg({'uid': 'nunique'}).reset_index()\n",
    "cohort_sizes.columns = ['first_order_month', 'n_buyers']\n",
    "# добавим месяц первой покупки каждого покупателя в таблицу с заказами\n",
    "orders_new = pd.merge(orders,first_orders, on='uid')\n",
    "# cгруппируем таблицу заказов по месяцу первой покупки и месяцу каждого заказа и сложим выручку\n",
    "cohorts_1 = orders_new.groupby(['first_order_month','order_month']).agg({'revenue': 'sum'}).reset_index()\n",
    "# добавим в таблицу cohorts данные о том, сколько людей первый раз совершили покупку в каждый месяц:\n",
    "report = pd.merge(cohort_sizes, cohorts_1, on='first_order_month')\n",
    "display(report)"
   ]
  },
  {
   "cell_type": "markdown",
   "metadata": {},
   "source": [
    "* Метрику LTV считают не из выручки, а из валовой прибыли. Так как нам не дана маржинальность, мы валовую прибыль найти не можем. Примем маржинальность за единицу и фактически посчитаем LTV по выручке. LTV — относительный показатель. Посмотрим на него, в зависимости от возраста когорты 'cohort_age'"
   ]
  },
  {
   "cell_type": "code",
   "execution_count": 33,
   "metadata": {},
   "outputs": [],
   "source": [
    "margin_rate = 1\n",
    "    \n",
    "report['gp'] = report['revenue'] * margin_rate\n",
    "report['age'] = (report['order_month'] - report['first_order_month']) / np.timedelta64(1, 'M')\n",
    "report['age'] = report['age'].round().astype('int')"
   ]
  },
  {
   "cell_type": "markdown",
   "metadata": {},
   "source": [
    "Найдём LTV, разделив валовую прибыль когорт за каждый месяц на общее число пользователей в каждой когорте. Визуализируем когорты в виде сводной таблицы."
   ]
  },
  {
   "cell_type": "code",
   "execution_count": 34,
   "metadata": {},
   "outputs": [
    {
     "data": {
      "text/html": [
       "<div>\n",
       "<style scoped>\n",
       "    .dataframe tbody tr th:only-of-type {\n",
       "        vertical-align: middle;\n",
       "    }\n",
       "\n",
       "    .dataframe tbody tr th {\n",
       "        vertical-align: top;\n",
       "    }\n",
       "\n",
       "    .dataframe thead th {\n",
       "        text-align: right;\n",
       "    }\n",
       "</style>\n",
       "<table border=\"1\" class=\"dataframe\">\n",
       "  <thead>\n",
       "    <tr style=\"text-align: right;\">\n",
       "      <th>age</th>\n",
       "      <th>0</th>\n",
       "      <th>1</th>\n",
       "      <th>2</th>\n",
       "      <th>3</th>\n",
       "      <th>4</th>\n",
       "      <th>5</th>\n",
       "      <th>6</th>\n",
       "      <th>7</th>\n",
       "      <th>8</th>\n",
       "      <th>9</th>\n",
       "      <th>10</th>\n",
       "      <th>11</th>\n",
       "    </tr>\n",
       "    <tr>\n",
       "      <th>first_order_month</th>\n",
       "      <th></th>\n",
       "      <th></th>\n",
       "      <th></th>\n",
       "      <th></th>\n",
       "      <th></th>\n",
       "      <th></th>\n",
       "      <th></th>\n",
       "      <th></th>\n",
       "      <th></th>\n",
       "      <th></th>\n",
       "      <th></th>\n",
       "      <th></th>\n",
       "    </tr>\n",
       "  </thead>\n",
       "  <tbody>\n",
       "    <tr>\n",
       "      <td>2017-06-01</td>\n",
       "      <td>4.72</td>\n",
       "      <td>5.21</td>\n",
       "      <td>5.65</td>\n",
       "      <td>6.6</td>\n",
       "      <td>7.62</td>\n",
       "      <td>8.36</td>\n",
       "      <td>9.31</td>\n",
       "      <td>9.89</td>\n",
       "      <td>10.44</td>\n",
       "      <td>11.05</td>\n",
       "      <td>11.62</td>\n",
       "      <td>11.88</td>\n",
       "    </tr>\n",
       "    <tr>\n",
       "      <td>2017-07-01</td>\n",
       "      <td>6.01</td>\n",
       "      <td>6.35</td>\n",
       "      <td>6.97</td>\n",
       "      <td>7.33</td>\n",
       "      <td>7.51</td>\n",
       "      <td>7.67</td>\n",
       "      <td>7.79</td>\n",
       "      <td>7.93</td>\n",
       "      <td>8.09</td>\n",
       "      <td>8.24</td>\n",
       "      <td>8.4</td>\n",
       "      <td></td>\n",
       "    </tr>\n",
       "    <tr>\n",
       "      <td>2017-08-01</td>\n",
       "      <td>5.28</td>\n",
       "      <td>5.75</td>\n",
       "      <td>6.21</td>\n",
       "      <td>6.6</td>\n",
       "      <td>7.09</td>\n",
       "      <td>7.37</td>\n",
       "      <td>7.58</td>\n",
       "      <td>7.99</td>\n",
       "      <td>8.28</td>\n",
       "      <td>8.47</td>\n",
       "      <td></td>\n",
       "      <td></td>\n",
       "    </tr>\n",
       "    <tr>\n",
       "      <td>2017-09-01</td>\n",
       "      <td>5.64</td>\n",
       "      <td>6.76</td>\n",
       "      <td>7.28</td>\n",
       "      <td>11.26</td>\n",
       "      <td>11.66</td>\n",
       "      <td>12.31</td>\n",
       "      <td>13.01</td>\n",
       "      <td>13.25</td>\n",
       "      <td>13.43</td>\n",
       "      <td></td>\n",
       "      <td></td>\n",
       "      <td></td>\n",
       "    </tr>\n",
       "    <tr>\n",
       "      <td>2017-10-01</td>\n",
       "      <td>5.00</td>\n",
       "      <td>5.54</td>\n",
       "      <td>5.73</td>\n",
       "      <td>5.89</td>\n",
       "      <td>6.04</td>\n",
       "      <td>6.16</td>\n",
       "      <td>6.24</td>\n",
       "      <td>6.36</td>\n",
       "      <td></td>\n",
       "      <td></td>\n",
       "      <td></td>\n",
       "      <td></td>\n",
       "    </tr>\n",
       "    <tr>\n",
       "      <td>2017-11-01</td>\n",
       "      <td>5.15</td>\n",
       "      <td>5.55</td>\n",
       "      <td>5.75</td>\n",
       "      <td>6.07</td>\n",
       "      <td>6.22</td>\n",
       "      <td>6.27</td>\n",
       "      <td>6.38</td>\n",
       "      <td></td>\n",
       "      <td></td>\n",
       "      <td></td>\n",
       "      <td></td>\n",
       "      <td></td>\n",
       "    </tr>\n",
       "    <tr>\n",
       "      <td>2017-12-01</td>\n",
       "      <td>4.74</td>\n",
       "      <td>5</td>\n",
       "      <td>5.93</td>\n",
       "      <td>7</td>\n",
       "      <td>7.31</td>\n",
       "      <td>7.65</td>\n",
       "      <td></td>\n",
       "      <td></td>\n",
       "      <td></td>\n",
       "      <td></td>\n",
       "      <td></td>\n",
       "      <td></td>\n",
       "    </tr>\n",
       "    <tr>\n",
       "      <td>2018-01-01</td>\n",
       "      <td>4.14</td>\n",
       "      <td>4.43</td>\n",
       "      <td>4.73</td>\n",
       "      <td>4.87</td>\n",
       "      <td>4.93</td>\n",
       "      <td></td>\n",
       "      <td></td>\n",
       "      <td></td>\n",
       "      <td></td>\n",
       "      <td></td>\n",
       "      <td></td>\n",
       "      <td></td>\n",
       "    </tr>\n",
       "    <tr>\n",
       "      <td>2018-02-01</td>\n",
       "      <td>4.16</td>\n",
       "      <td>4.44</td>\n",
       "      <td>4.52</td>\n",
       "      <td>4.59</td>\n",
       "      <td></td>\n",
       "      <td></td>\n",
       "      <td></td>\n",
       "      <td></td>\n",
       "      <td></td>\n",
       "      <td></td>\n",
       "      <td></td>\n",
       "      <td></td>\n",
       "    </tr>\n",
       "    <tr>\n",
       "      <td>2018-03-01</td>\n",
       "      <td>4.84</td>\n",
       "      <td>5.14</td>\n",
       "      <td>5.46</td>\n",
       "      <td></td>\n",
       "      <td></td>\n",
       "      <td></td>\n",
       "      <td></td>\n",
       "      <td></td>\n",
       "      <td></td>\n",
       "      <td></td>\n",
       "      <td></td>\n",
       "      <td></td>\n",
       "    </tr>\n",
       "    <tr>\n",
       "      <td>2018-04-01</td>\n",
       "      <td>4.66</td>\n",
       "      <td>5.19</td>\n",
       "      <td></td>\n",
       "      <td></td>\n",
       "      <td></td>\n",
       "      <td></td>\n",
       "      <td></td>\n",
       "      <td></td>\n",
       "      <td></td>\n",
       "      <td></td>\n",
       "      <td></td>\n",
       "      <td></td>\n",
       "    </tr>\n",
       "    <tr>\n",
       "      <td>2018-05-01</td>\n",
       "      <td>4.66</td>\n",
       "      <td></td>\n",
       "      <td></td>\n",
       "      <td></td>\n",
       "      <td></td>\n",
       "      <td></td>\n",
       "      <td></td>\n",
       "      <td></td>\n",
       "      <td></td>\n",
       "      <td></td>\n",
       "      <td></td>\n",
       "      <td></td>\n",
       "    </tr>\n",
       "    <tr>\n",
       "      <td>2018-06-01</td>\n",
       "      <td>3.42</td>\n",
       "      <td></td>\n",
       "      <td></td>\n",
       "      <td></td>\n",
       "      <td></td>\n",
       "      <td></td>\n",
       "      <td></td>\n",
       "      <td></td>\n",
       "      <td></td>\n",
       "      <td></td>\n",
       "      <td></td>\n",
       "      <td></td>\n",
       "    </tr>\n",
       "  </tbody>\n",
       "</table>\n",
       "</div>"
      ],
      "text/plain": [
       "age                  0     1     2      3      4      5      6      7      8   \\\n",
       "first_order_month                                                               \n",
       "2017-06-01         4.72  5.21  5.65    6.6   7.62   8.36   9.31   9.89  10.44   \n",
       "2017-07-01         6.01  6.35  6.97   7.33   7.51   7.67   7.79   7.93   8.09   \n",
       "2017-08-01         5.28  5.75  6.21    6.6   7.09   7.37   7.58   7.99   8.28   \n",
       "2017-09-01         5.64  6.76  7.28  11.26  11.66  12.31  13.01  13.25  13.43   \n",
       "2017-10-01         5.00  5.54  5.73   5.89   6.04   6.16   6.24   6.36          \n",
       "2017-11-01         5.15  5.55  5.75   6.07   6.22   6.27   6.38                 \n",
       "2017-12-01         4.74     5  5.93      7   7.31   7.65                        \n",
       "2018-01-01         4.14  4.43  4.73   4.87   4.93                               \n",
       "2018-02-01         4.16  4.44  4.52   4.59                                      \n",
       "2018-03-01         4.84  5.14  5.46                                             \n",
       "2018-04-01         4.66  5.19                                                   \n",
       "2018-05-01         4.66                                                         \n",
       "2018-06-01         3.42                                                         \n",
       "\n",
       "age                   9      10     11  \n",
       "first_order_month                       \n",
       "2017-06-01         11.05  11.62  11.88  \n",
       "2017-07-01          8.24    8.4         \n",
       "2017-08-01          8.47                \n",
       "2017-09-01                              \n",
       "2017-10-01                              \n",
       "2017-11-01                              \n",
       "2017-12-01                              \n",
       "2018-01-01                              \n",
       "2018-02-01                              \n",
       "2018-03-01                              \n",
       "2018-04-01                              \n",
       "2018-05-01                              \n",
       "2018-06-01                              "
      ]
     },
     "execution_count": 34,
     "metadata": {},
     "output_type": "execute_result"
    }
   ],
   "source": [
    "report['ltv'] = report['gp'] / report['n_buyers']\n",
    "report['ltv'] = report['ltv'].round(2)\n",
    "report_final = report.pivot_table(\n",
    "        index='first_order_month', \n",
    "        columns='age', \n",
    "        values='ltv', \n",
    "        aggfunc='mean').round(2)\n",
    "    \n",
    "report_final = report_final.cumsum(axis=1).round(2) \n",
    "report_final.fillna('') \n"
   ]
  },
  {
   "cell_type": "code",
   "execution_count": 35,
   "metadata": {},
   "outputs": [
    {
     "data": {
      "text/html": [
       "<div>\n",
       "<style scoped>\n",
       "    .dataframe tbody tr th:only-of-type {\n",
       "        vertical-align: middle;\n",
       "    }\n",
       "\n",
       "    .dataframe tbody tr th {\n",
       "        vertical-align: top;\n",
       "    }\n",
       "\n",
       "    .dataframe thead th {\n",
       "        text-align: right;\n",
       "    }\n",
       "</style>\n",
       "<table border=\"1\" class=\"dataframe\">\n",
       "  <thead>\n",
       "    <tr style=\"text-align: right;\">\n",
       "      <th>age</th>\n",
       "      <th>0</th>\n",
       "      <th>1</th>\n",
       "      <th>2</th>\n",
       "      <th>3</th>\n",
       "      <th>4</th>\n",
       "      <th>5</th>\n",
       "      <th>6</th>\n",
       "      <th>7</th>\n",
       "      <th>8</th>\n",
       "      <th>9</th>\n",
       "      <th>10</th>\n",
       "      <th>11</th>\n",
       "    </tr>\n",
       "    <tr>\n",
       "      <th>first_order_month</th>\n",
       "      <th></th>\n",
       "      <th></th>\n",
       "      <th></th>\n",
       "      <th></th>\n",
       "      <th></th>\n",
       "      <th></th>\n",
       "      <th></th>\n",
       "      <th></th>\n",
       "      <th></th>\n",
       "      <th></th>\n",
       "      <th></th>\n",
       "      <th></th>\n",
       "    </tr>\n",
       "  </thead>\n",
       "  <tbody>\n",
       "    <tr>\n",
       "      <td>2017-06-01</td>\n",
       "      <td>4.72</td>\n",
       "      <td>5.21</td>\n",
       "      <td>5.65</td>\n",
       "      <td>6.60</td>\n",
       "      <td>7.62</td>\n",
       "      <td>8.36</td>\n",
       "      <td>9.31</td>\n",
       "      <td>9.89</td>\n",
       "      <td>10.44</td>\n",
       "      <td>11.05</td>\n",
       "      <td>11.62</td>\n",
       "      <td>11.88</td>\n",
       "    </tr>\n",
       "    <tr>\n",
       "      <td>2017-07-01</td>\n",
       "      <td>6.01</td>\n",
       "      <td>6.35</td>\n",
       "      <td>6.97</td>\n",
       "      <td>7.33</td>\n",
       "      <td>7.51</td>\n",
       "      <td>7.67</td>\n",
       "      <td>7.79</td>\n",
       "      <td>7.93</td>\n",
       "      <td>8.09</td>\n",
       "      <td>8.24</td>\n",
       "      <td>8.40</td>\n",
       "      <td>NaN</td>\n",
       "    </tr>\n",
       "    <tr>\n",
       "      <td>2017-08-01</td>\n",
       "      <td>5.28</td>\n",
       "      <td>5.75</td>\n",
       "      <td>6.21</td>\n",
       "      <td>6.60</td>\n",
       "      <td>7.09</td>\n",
       "      <td>7.37</td>\n",
       "      <td>7.58</td>\n",
       "      <td>7.99</td>\n",
       "      <td>8.28</td>\n",
       "      <td>8.47</td>\n",
       "      <td>NaN</td>\n",
       "      <td>NaN</td>\n",
       "    </tr>\n",
       "    <tr>\n",
       "      <td>2017-09-01</td>\n",
       "      <td>5.64</td>\n",
       "      <td>6.76</td>\n",
       "      <td>7.28</td>\n",
       "      <td>11.26</td>\n",
       "      <td>11.66</td>\n",
       "      <td>12.31</td>\n",
       "      <td>13.01</td>\n",
       "      <td>13.25</td>\n",
       "      <td>13.43</td>\n",
       "      <td>NaN</td>\n",
       "      <td>NaN</td>\n",
       "      <td>NaN</td>\n",
       "    </tr>\n",
       "    <tr>\n",
       "      <td>2017-10-01</td>\n",
       "      <td>5.00</td>\n",
       "      <td>5.54</td>\n",
       "      <td>5.73</td>\n",
       "      <td>5.89</td>\n",
       "      <td>6.04</td>\n",
       "      <td>6.16</td>\n",
       "      <td>6.24</td>\n",
       "      <td>6.36</td>\n",
       "      <td>NaN</td>\n",
       "      <td>NaN</td>\n",
       "      <td>NaN</td>\n",
       "      <td>NaN</td>\n",
       "    </tr>\n",
       "    <tr>\n",
       "      <td>2017-11-01</td>\n",
       "      <td>5.15</td>\n",
       "      <td>5.55</td>\n",
       "      <td>5.75</td>\n",
       "      <td>6.07</td>\n",
       "      <td>6.22</td>\n",
       "      <td>6.27</td>\n",
       "      <td>6.38</td>\n",
       "      <td>NaN</td>\n",
       "      <td>NaN</td>\n",
       "      <td>NaN</td>\n",
       "      <td>NaN</td>\n",
       "      <td>NaN</td>\n",
       "    </tr>\n",
       "    <tr>\n",
       "      <td>2017-12-01</td>\n",
       "      <td>4.74</td>\n",
       "      <td>5.00</td>\n",
       "      <td>5.93</td>\n",
       "      <td>7.00</td>\n",
       "      <td>7.31</td>\n",
       "      <td>7.65</td>\n",
       "      <td>NaN</td>\n",
       "      <td>NaN</td>\n",
       "      <td>NaN</td>\n",
       "      <td>NaN</td>\n",
       "      <td>NaN</td>\n",
       "      <td>NaN</td>\n",
       "    </tr>\n",
       "    <tr>\n",
       "      <td>2018-01-01</td>\n",
       "      <td>4.14</td>\n",
       "      <td>4.43</td>\n",
       "      <td>4.73</td>\n",
       "      <td>4.87</td>\n",
       "      <td>4.93</td>\n",
       "      <td>NaN</td>\n",
       "      <td>NaN</td>\n",
       "      <td>NaN</td>\n",
       "      <td>NaN</td>\n",
       "      <td>NaN</td>\n",
       "      <td>NaN</td>\n",
       "      <td>NaN</td>\n",
       "    </tr>\n",
       "    <tr>\n",
       "      <td>2018-02-01</td>\n",
       "      <td>4.16</td>\n",
       "      <td>4.44</td>\n",
       "      <td>4.52</td>\n",
       "      <td>4.59</td>\n",
       "      <td>NaN</td>\n",
       "      <td>NaN</td>\n",
       "      <td>NaN</td>\n",
       "      <td>NaN</td>\n",
       "      <td>NaN</td>\n",
       "      <td>NaN</td>\n",
       "      <td>NaN</td>\n",
       "      <td>NaN</td>\n",
       "    </tr>\n",
       "    <tr>\n",
       "      <td>2018-03-01</td>\n",
       "      <td>4.84</td>\n",
       "      <td>5.14</td>\n",
       "      <td>5.46</td>\n",
       "      <td>NaN</td>\n",
       "      <td>NaN</td>\n",
       "      <td>NaN</td>\n",
       "      <td>NaN</td>\n",
       "      <td>NaN</td>\n",
       "      <td>NaN</td>\n",
       "      <td>NaN</td>\n",
       "      <td>NaN</td>\n",
       "      <td>NaN</td>\n",
       "    </tr>\n",
       "    <tr>\n",
       "      <td>2018-04-01</td>\n",
       "      <td>4.66</td>\n",
       "      <td>5.19</td>\n",
       "      <td>NaN</td>\n",
       "      <td>NaN</td>\n",
       "      <td>NaN</td>\n",
       "      <td>NaN</td>\n",
       "      <td>NaN</td>\n",
       "      <td>NaN</td>\n",
       "      <td>NaN</td>\n",
       "      <td>NaN</td>\n",
       "      <td>NaN</td>\n",
       "      <td>NaN</td>\n",
       "    </tr>\n",
       "    <tr>\n",
       "      <td>2018-05-01</td>\n",
       "      <td>4.66</td>\n",
       "      <td>NaN</td>\n",
       "      <td>NaN</td>\n",
       "      <td>NaN</td>\n",
       "      <td>NaN</td>\n",
       "      <td>NaN</td>\n",
       "      <td>NaN</td>\n",
       "      <td>NaN</td>\n",
       "      <td>NaN</td>\n",
       "      <td>NaN</td>\n",
       "      <td>NaN</td>\n",
       "      <td>NaN</td>\n",
       "    </tr>\n",
       "    <tr>\n",
       "      <td>2018-06-01</td>\n",
       "      <td>3.42</td>\n",
       "      <td>NaN</td>\n",
       "      <td>NaN</td>\n",
       "      <td>NaN</td>\n",
       "      <td>NaN</td>\n",
       "      <td>NaN</td>\n",
       "      <td>NaN</td>\n",
       "      <td>NaN</td>\n",
       "      <td>NaN</td>\n",
       "      <td>NaN</td>\n",
       "      <td>NaN</td>\n",
       "      <td>NaN</td>\n",
       "    </tr>\n",
       "  </tbody>\n",
       "</table>\n",
       "</div>"
      ],
      "text/plain": [
       "age                  0     1     2      3      4      5      6      7      8   \\\n",
       "first_order_month                                                               \n",
       "2017-06-01         4.72  5.21  5.65   6.60   7.62   8.36   9.31   9.89  10.44   \n",
       "2017-07-01         6.01  6.35  6.97   7.33   7.51   7.67   7.79   7.93   8.09   \n",
       "2017-08-01         5.28  5.75  6.21   6.60   7.09   7.37   7.58   7.99   8.28   \n",
       "2017-09-01         5.64  6.76  7.28  11.26  11.66  12.31  13.01  13.25  13.43   \n",
       "2017-10-01         5.00  5.54  5.73   5.89   6.04   6.16   6.24   6.36    NaN   \n",
       "2017-11-01         5.15  5.55  5.75   6.07   6.22   6.27   6.38    NaN    NaN   \n",
       "2017-12-01         4.74  5.00  5.93   7.00   7.31   7.65    NaN    NaN    NaN   \n",
       "2018-01-01         4.14  4.43  4.73   4.87   4.93    NaN    NaN    NaN    NaN   \n",
       "2018-02-01         4.16  4.44  4.52   4.59    NaN    NaN    NaN    NaN    NaN   \n",
       "2018-03-01         4.84  5.14  5.46    NaN    NaN    NaN    NaN    NaN    NaN   \n",
       "2018-04-01         4.66  5.19   NaN    NaN    NaN    NaN    NaN    NaN    NaN   \n",
       "2018-05-01         4.66   NaN   NaN    NaN    NaN    NaN    NaN    NaN    NaN   \n",
       "2018-06-01         3.42   NaN   NaN    NaN    NaN    NaN    NaN    NaN    NaN   \n",
       "\n",
       "age                   9      10     11  \n",
       "first_order_month                       \n",
       "2017-06-01         11.05  11.62  11.88  \n",
       "2017-07-01          8.24   8.40    NaN  \n",
       "2017-08-01          8.47    NaN    NaN  \n",
       "2017-09-01           NaN    NaN    NaN  \n",
       "2017-10-01           NaN    NaN    NaN  \n",
       "2017-11-01           NaN    NaN    NaN  \n",
       "2017-12-01           NaN    NaN    NaN  \n",
       "2018-01-01           NaN    NaN    NaN  \n",
       "2018-02-01           NaN    NaN    NaN  \n",
       "2018-03-01           NaN    NaN    NaN  \n",
       "2018-04-01           NaN    NaN    NaN  \n",
       "2018-05-01           NaN    NaN    NaN  \n",
       "2018-06-01           NaN    NaN    NaN  "
      ]
     },
     "execution_count": 35,
     "metadata": {},
     "output_type": "execute_result"
    }
   ],
   "source": [
    "report_final"
   ]
  },
  {
   "cell_type": "markdown",
   "metadata": {},
   "source": [
    "* создадим тепловую карту"
   ]
  },
  {
   "cell_type": "code",
   "execution_count": 36,
   "metadata": {},
   "outputs": [
    {
     "data": {
      "image/png": "[encoded data removed]",
      "text/plain": [
       "<Figure size 864x504 with 2 Axes>"
      ]
     },
     "metadata": {},
     "output_type": "display_data"
    }
   ],
   "source": [
    "sns.set(style='dark')\n",
    "plt.figure(figsize=(12, 7))\n",
    "plt.title('LTV')\n",
    "sns.heatmap(report_final, annot=True, fmt='.3', linewidths=2, linecolor='white');"
   ]
  },
  {
   "cell_type": "markdown",
   "metadata": {},
   "source": [
    "* Больше всего денег пользователи когорт приносят в первый месяц, эти цифры сопоставимы со средним чеком. В последующие месяцы жизни когорты, пользователи приносят околоединичное значение. На этом фоне выделяется когорта 2017-06-01 и 2017-09-01. Пользователи этих когорт продолжали приносить доход на протяжении всего  доступного периода lifetime и увеличивали его. Возможно к ех участникам применялся какой то особый рекламный подход. Марктологам следует посмотреть, не использовали ли они что-то необычное в работе с этими когортами.LTV кагорты увеличивается с течнием времени и это хороший знак, но заметно, что у когорт, пришедших в новом году, темп роста значительно снизился."
   ]
  },
  {
   "cell_type": "code",
   "execution_count": 37,
   "metadata": {},
   "outputs": [
    {
     "name": "stdout",
     "output_type": "stream",
     "text": [
      "Всего было потрачено: 329131\n"
     ]
    }
   ],
   "source": [
    "print('Всего было потрачено:',int(costs['costs'].sum()))"
   ]
  },
  {
   "cell_type": "markdown",
   "metadata": {},
   "source": [
    "* Посмотрим, сколько было потрачено за все время на каждый источник"
   ]
  },
  {
   "cell_type": "code",
   "execution_count": 38,
   "metadata": {},
   "outputs": [],
   "source": [
    "costs_1 = costs.groupby('source_id').agg({'costs': 'sum'}).reset_index()"
   ]
  },
  {
   "cell_type": "code",
   "execution_count": 39,
   "metadata": {},
   "outputs": [
    {
     "data": {
      "text/html": [
       "<div>\n",
       "<style scoped>\n",
       "    .dataframe tbody tr th:only-of-type {\n",
       "        vertical-align: middle;\n",
       "    }\n",
       "\n",
       "    .dataframe tbody tr th {\n",
       "        vertical-align: top;\n",
       "    }\n",
       "\n",
       "    .dataframe thead th {\n",
       "        text-align: right;\n",
       "    }\n",
       "</style>\n",
       "<table border=\"1\" class=\"dataframe\">\n",
       "  <thead>\n",
       "    <tr style=\"text-align: right;\">\n",
       "      <th></th>\n",
       "      <th>source_id</th>\n",
       "      <th>costs</th>\n",
       "    </tr>\n",
       "  </thead>\n",
       "  <tbody>\n",
       "    <tr>\n",
       "      <td>2</td>\n",
       "      <td>3</td>\n",
       "      <td>141321.63</td>\n",
       "    </tr>\n",
       "    <tr>\n",
       "      <td>3</td>\n",
       "      <td>4</td>\n",
       "      <td>61073.60</td>\n",
       "    </tr>\n",
       "    <tr>\n",
       "      <td>4</td>\n",
       "      <td>5</td>\n",
       "      <td>51757.10</td>\n",
       "    </tr>\n",
       "    <tr>\n",
       "      <td>1</td>\n",
       "      <td>2</td>\n",
       "      <td>42806.04</td>\n",
       "    </tr>\n",
       "    <tr>\n",
       "      <td>0</td>\n",
       "      <td>1</td>\n",
       "      <td>20833.27</td>\n",
       "    </tr>\n",
       "    <tr>\n",
       "      <td>6</td>\n",
       "      <td>10</td>\n",
       "      <td>5822.49</td>\n",
       "    </tr>\n",
       "    <tr>\n",
       "      <td>5</td>\n",
       "      <td>9</td>\n",
       "      <td>5517.49</td>\n",
       "    </tr>\n",
       "  </tbody>\n",
       "</table>\n",
       "</div>"
      ],
      "text/plain": [
       "   source_id      costs\n",
       "2          3  141321.63\n",
       "3          4   61073.60\n",
       "4          5   51757.10\n",
       "1          2   42806.04\n",
       "0          1   20833.27\n",
       "6         10    5822.49\n",
       "5          9    5517.49"
      ]
     },
     "execution_count": 39,
     "metadata": {},
     "output_type": "execute_result"
    }
   ],
   "source": [
    "costs_1.sort_values('costs',ascending=False)"
   ]
  },
  {
   "cell_type": "markdown",
   "metadata": {},
   "source": [
    "* Больше всего денег мы потратили на источники 3, 4 и 5"
   ]
  },
  {
   "cell_type": "markdown",
   "metadata": {},
   "source": [
    "* Узнаем, как изменялись траты с течением времени"
   ]
  },
  {
   "cell_type": "code",
   "execution_count": 40,
   "metadata": {},
   "outputs": [
    {
     "data": {
      "text/plain": [
       "Text(0, 0.5, 'Затраты')"
      ]
     },
     "execution_count": 40,
     "metadata": {},
     "output_type": "execute_result"
    },
    {
     "data": {
      "image/png": "[encoded data removed]",
      "text/plain": [
       "<Figure size 864x576 with 1 Axes>"
      ]
     },
     "metadata": {},
     "output_type": "display_data"
    }
   ],
   "source": [
    "costs_2 = costs.groupby('month').agg({'costs': 'sum'}).reset_index()\n",
    "costs_2.plot(kind='line',x = 'month',y = 'costs',figsize=(12,8),grid=True)\n",
    "plt.xlabel('Месяц')\n",
    "plt.ylabel('Затраты')"
   ]
  },
  {
   "cell_type": "markdown",
   "metadata": {},
   "source": [
    "* В период июль-август, затраты снижались и в августе достигли минимума. А потом в период с августа до октября выросли более чем в 4 раза и к декабрю достигли максимума, после которого опять начали снижаться.То есть больше всего тратили в период с августа до апреля. "
   ]
  },
  {
   "cell_type": "markdown",
   "metadata": {},
   "source": [
    "* Посчитаем знакомую метрику LTV, только уже в разбивке по источникам трафика"
   ]
  },
  {
   "cell_type": "code",
   "execution_count": 41,
   "metadata": {},
   "outputs": [],
   "source": [
    "# находим первый источник трафика каждого юзера\n",
    "first_source = visits.groupby('uid').agg({'source_id':'first'}).reset_index()\n",
    "first_source.columns = ['uid', 'first_source']\n",
    "# обединяем первый источник трафика с таблицей о заказах по столбцу 'id' \n",
    "source_order = pd.merge(orders,first_source, on='uid')\n",
    "# добавим месяц первого заказа \n",
    "source_order_new = pd.merge(first_orders,source_order, on='uid')\n",
    "# группируем табличку заказов orders по месяцу первой покупки и источнику, найдем количество людей в когортах\n",
    "orders_1 = source_order_new.groupby(['first_order_month','first_source']).agg({'uid': 'nunique'}).reset_index()\n",
    "orders_1.columns = ['first_order_month','first_source','n_buyers']\n",
    "# сгруппируем заказы по источнику и месяцу первой покупкии и месяцу покупки, просуммируем revenue.\n",
    "orders_2 = source_order_new.groupby(['first_source','first_order_month','order_month']).agg({'revenue': 'sum'}).reset_index()\n",
    "# объединяем по месяцу первой покупки и источнику таблицы orders_2 и orders_1\n",
    "report_source = pd.merge(orders_1,orders_2, on= ['first_order_month','first_source'])\n",
    "report_source['gp'] = report_source['revenue'] * margin_rate\n",
    "# делим валовую прибыль на количество новых покупталей и получаем ltv\n",
    "report_source['ltv'] = report_source['gp'] / report_source['n_buyers']"
   ]
  },
  {
   "cell_type": "code",
   "execution_count": 42,
   "metadata": {},
   "outputs": [
    {
     "data": {
      "text/html": [
       "<div>\n",
       "<style scoped>\n",
       "    .dataframe tbody tr th:only-of-type {\n",
       "        vertical-align: middle;\n",
       "    }\n",
       "\n",
       "    .dataframe tbody tr th {\n",
       "        vertical-align: top;\n",
       "    }\n",
       "\n",
       "    .dataframe thead th {\n",
       "        text-align: right;\n",
       "    }\n",
       "</style>\n",
       "<table border=\"1\" class=\"dataframe\">\n",
       "  <thead>\n",
       "    <tr style=\"text-align: right;\">\n",
       "      <th>first_source</th>\n",
       "      <th>1</th>\n",
       "      <th>2</th>\n",
       "      <th>3</th>\n",
       "      <th>4</th>\n",
       "      <th>5</th>\n",
       "      <th>7</th>\n",
       "      <th>9</th>\n",
       "      <th>10</th>\n",
       "    </tr>\n",
       "    <tr>\n",
       "      <th>first_order_month</th>\n",
       "      <th></th>\n",
       "      <th></th>\n",
       "      <th></th>\n",
       "      <th></th>\n",
       "      <th></th>\n",
       "      <th></th>\n",
       "      <th></th>\n",
       "      <th></th>\n",
       "    </tr>\n",
       "  </thead>\n",
       "  <tbody>\n",
       "    <tr>\n",
       "      <td>2017-06-01</td>\n",
       "      <td>2.88</td>\n",
       "      <td>1.93</td>\n",
       "      <td>0.44</td>\n",
       "      <td>0.58</td>\n",
       "      <td>0.93</td>\n",
       "      <td></td>\n",
       "      <td>0.4</td>\n",
       "      <td>0.47</td>\n",
       "    </tr>\n",
       "    <tr>\n",
       "      <td>2017-07-01</td>\n",
       "      <td>1.57</td>\n",
       "      <td>0.96</td>\n",
       "      <td>0.53</td>\n",
       "      <td>0.71</td>\n",
       "      <td>0.58</td>\n",
       "      <td></td>\n",
       "      <td>0.82</td>\n",
       "      <td>1.12</td>\n",
       "    </tr>\n",
       "    <tr>\n",
       "      <td>2017-08-01</td>\n",
       "      <td>0.88</td>\n",
       "      <td>0.85</td>\n",
       "      <td>0.63</td>\n",
       "      <td>0.74</td>\n",
       "      <td>1.06</td>\n",
       "      <td>1.22</td>\n",
       "      <td>1.24</td>\n",
       "      <td>1.09</td>\n",
       "    </tr>\n",
       "    <tr>\n",
       "      <td>2017-09-01</td>\n",
       "      <td>1.76</td>\n",
       "      <td>6.77</td>\n",
       "      <td>0.61</td>\n",
       "      <td>0.71</td>\n",
       "      <td>0.62</td>\n",
       "      <td></td>\n",
       "      <td>0.73</td>\n",
       "      <td>0.33</td>\n",
       "    </tr>\n",
       "    <tr>\n",
       "      <td>2017-10-01</td>\n",
       "      <td>1.1</td>\n",
       "      <td>1.46</td>\n",
       "      <td>0.63</td>\n",
       "      <td>0.65</td>\n",
       "      <td>0.78</td>\n",
       "      <td></td>\n",
       "      <td>0.62</td>\n",
       "      <td>0.46</td>\n",
       "    </tr>\n",
       "    <tr>\n",
       "      <td>2017-11-01</td>\n",
       "      <td>1.08</td>\n",
       "      <td>1.27</td>\n",
       "      <td>0.85</td>\n",
       "      <td>0.92</td>\n",
       "      <td>0.71</td>\n",
       "      <td></td>\n",
       "      <td>0.7</td>\n",
       "      <td>0.69</td>\n",
       "    </tr>\n",
       "    <tr>\n",
       "      <td>2017-12-01</td>\n",
       "      <td>0.91</td>\n",
       "      <td>4.8</td>\n",
       "      <td>0.77</td>\n",
       "      <td>0.76</td>\n",
       "      <td>0.91</td>\n",
       "      <td></td>\n",
       "      <td>0.77</td>\n",
       "      <td>1.24</td>\n",
       "    </tr>\n",
       "    <tr>\n",
       "      <td>2018-01-01</td>\n",
       "      <td>1.72</td>\n",
       "      <td>1.14</td>\n",
       "      <td>0.85</td>\n",
       "      <td>0.81</td>\n",
       "      <td>1.07</td>\n",
       "      <td></td>\n",
       "      <td>0.76</td>\n",
       "      <td>1.56</td>\n",
       "    </tr>\n",
       "    <tr>\n",
       "      <td>2018-02-01</td>\n",
       "      <td>1.7</td>\n",
       "      <td>1.25</td>\n",
       "      <td>1.05</td>\n",
       "      <td>1.08</td>\n",
       "      <td>1.16</td>\n",
       "      <td></td>\n",
       "      <td>1.01</td>\n",
       "      <td>0.91</td>\n",
       "    </tr>\n",
       "    <tr>\n",
       "      <td>2018-03-01</td>\n",
       "      <td>3.6</td>\n",
       "      <td>2.2</td>\n",
       "      <td>1.52</td>\n",
       "      <td>1.65</td>\n",
       "      <td>1.74</td>\n",
       "      <td></td>\n",
       "      <td>0.93</td>\n",
       "      <td>1.1</td>\n",
       "    </tr>\n",
       "    <tr>\n",
       "      <td>2018-04-01</td>\n",
       "      <td>3.98</td>\n",
       "      <td>3.11</td>\n",
       "      <td>2.07</td>\n",
       "      <td>2.63</td>\n",
       "      <td>2.42</td>\n",
       "      <td></td>\n",
       "      <td>2.54</td>\n",
       "      <td>1.32</td>\n",
       "    </tr>\n",
       "    <tr>\n",
       "      <td>2018-05-01</td>\n",
       "      <td>5.42</td>\n",
       "      <td>6.4</td>\n",
       "      <td>3.81</td>\n",
       "      <td>4.71</td>\n",
       "      <td>4.12</td>\n",
       "      <td></td>\n",
       "      <td>3.78</td>\n",
       "      <td>4.09</td>\n",
       "    </tr>\n",
       "    <tr>\n",
       "      <td>2018-06-01</td>\n",
       "      <td></td>\n",
       "      <td></td>\n",
       "      <td></td>\n",
       "      <td>3.42</td>\n",
       "      <td></td>\n",
       "      <td></td>\n",
       "      <td></td>\n",
       "      <td></td>\n",
       "    </tr>\n",
       "  </tbody>\n",
       "</table>\n",
       "</div>"
      ],
      "text/plain": [
       "first_source         1     2     3     4     5     7     9     10\n",
       "first_order_month                                                \n",
       "2017-06-01         2.88  1.93  0.44  0.58  0.93         0.4  0.47\n",
       "2017-07-01         1.57  0.96  0.53  0.71  0.58        0.82  1.12\n",
       "2017-08-01         0.88  0.85  0.63  0.74  1.06  1.22  1.24  1.09\n",
       "2017-09-01         1.76  6.77  0.61  0.71  0.62        0.73  0.33\n",
       "2017-10-01          1.1  1.46  0.63  0.65  0.78        0.62  0.46\n",
       "2017-11-01         1.08  1.27  0.85  0.92  0.71         0.7  0.69\n",
       "2017-12-01         0.91   4.8  0.77  0.76  0.91        0.77  1.24\n",
       "2018-01-01         1.72  1.14  0.85  0.81  1.07        0.76  1.56\n",
       "2018-02-01          1.7  1.25  1.05  1.08  1.16        1.01  0.91\n",
       "2018-03-01          3.6   2.2  1.52  1.65  1.74        0.93   1.1\n",
       "2018-04-01         3.98  3.11  2.07  2.63  2.42        2.54  1.32\n",
       "2018-05-01         5.42   6.4  3.81  4.71  4.12        3.78  4.09\n",
       "2018-06-01                           3.42                        "
      ]
     },
     "execution_count": 42,
     "metadata": {},
     "output_type": "execute_result"
    }
   ],
   "source": [
    "# строим сводную таблицу\n",
    "report_source_final = report_source.pivot_table(\n",
    "        index='first_order_month', \n",
    "        columns='first_source', \n",
    "        values='ltv', \n",
    "        aggfunc='mean').round(2)   \n",
    "report_source_final.fillna('') "
   ]
  },
  {
   "cell_type": "markdown",
   "metadata": {},
   "source": [
    "* Выделяется источник 7, ltv у которого почти отсуствует. Это может связано с редким использованием источника и малым количеством пользователей в этом источнике или сезонностью его использования.Источники 9 и 10 также не особо прибыльные, в них много околонулевых и единичных значений.Cамыми прибыльными источниками являются 1,2 и 4. У них стабильный ltv на протяжении всего периода.Также интересным является, что всего источники (кроме 2) показали свой максимальный ltv в мае 2018. Возможно это связано с более активной закупкой трафика или рекамной компанией."
   ]
  },
  {
   "cell_type": "markdown",
   "metadata": {},
   "source": [
    "* Теперь рассчитаем метрику CAC.Она покажет стоимость привлечения клиента по каждому из исчтоников. То есть сумму денег, во сколько обходится новый клиент компании по каждому из источником ."
   ]
  },
  {
   "cell_type": "code",
   "execution_count": 43,
   "metadata": {},
   "outputs": [],
   "source": [
    "costs.columns = ['first_source','dt','costs','first_order_month']\n",
    "# группируем затраты по источнику и месяцу\n",
    "cac = costs.groupby(['first_source','first_order_month']).agg({'costs':'sum'})\n",
    "# обединяем наши затраты с таблицей ltv по источнику и месяцу \n",
    "cac_report = pd.merge(cac,report_source,on=['first_source','first_order_month'])\n",
    "# затраты делим на количество покупателей и получаем метрику cac\n",
    "cac_report['cac'] = cac_report['costs'] / cac_report['n_buyers']"
   ]
  },
  {
   "cell_type": "code",
   "execution_count": 44,
   "metadata": {},
   "outputs": [],
   "source": [
    "cac_report_final = cac_report.groupby('first_source').agg({'cac':'mean'}).reset_index()"
   ]
  },
  {
   "cell_type": "code",
   "execution_count": 45,
   "metadata": {},
   "outputs": [
    {
     "data": {
      "text/html": [
       "<div>\n",
       "<style scoped>\n",
       "    .dataframe tbody tr th:only-of-type {\n",
       "        vertical-align: middle;\n",
       "    }\n",
       "\n",
       "    .dataframe tbody tr th {\n",
       "        vertical-align: top;\n",
       "    }\n",
       "\n",
       "    .dataframe thead th {\n",
       "        text-align: right;\n",
       "    }\n",
       "</style>\n",
       "<table border=\"1\" class=\"dataframe\">\n",
       "  <thead>\n",
       "    <tr style=\"text-align: right;\">\n",
       "      <th></th>\n",
       "      <th>first_source</th>\n",
       "      <th>cac</th>\n",
       "    </tr>\n",
       "  </thead>\n",
       "  <tbody>\n",
       "    <tr>\n",
       "      <td>2</td>\n",
       "      <td>3</td>\n",
       "      <td>16.218395</td>\n",
       "    </tr>\n",
       "    <tr>\n",
       "      <td>1</td>\n",
       "      <td>2</td>\n",
       "      <td>10.091193</td>\n",
       "    </tr>\n",
       "    <tr>\n",
       "      <td>4</td>\n",
       "      <td>5</td>\n",
       "      <td>7.387981</td>\n",
       "    </tr>\n",
       "    <tr>\n",
       "      <td>3</td>\n",
       "      <td>4</td>\n",
       "      <td>7.204195</td>\n",
       "    </tr>\n",
       "    <tr>\n",
       "      <td>0</td>\n",
       "      <td>1</td>\n",
       "      <td>5.636486</td>\n",
       "    </tr>\n",
       "    <tr>\n",
       "      <td>6</td>\n",
       "      <td>10</td>\n",
       "      <td>5.513534</td>\n",
       "    </tr>\n",
       "    <tr>\n",
       "      <td>5</td>\n",
       "      <td>9</td>\n",
       "      <td>3.770276</td>\n",
       "    </tr>\n",
       "  </tbody>\n",
       "</table>\n",
       "</div>"
      ],
      "text/plain": [
       "   first_source        cac\n",
       "2             3  16.218395\n",
       "1             2  10.091193\n",
       "4             5   7.387981\n",
       "3             4   7.204195\n",
       "0             1   5.636486\n",
       "6            10   5.513534\n",
       "5             9   3.770276"
      ]
     },
     "execution_count": 45,
     "metadata": {},
     "output_type": "execute_result"
    }
   ],
   "source": [
    "cac_report_final.sort_values('cac',ascending=False)"
   ]
  },
  {
   "cell_type": "markdown",
   "metadata": {},
   "source": [
    "* Cамыми дорогими источниками за все время были источники 3,2 и 5"
   ]
  },
  {
   "cell_type": "markdown",
   "metadata": {},
   "source": [
    "* Посчистаем метрику ROMI, которая покажет ,насколько и как быстро окупились расходы по каждому из источников."
   ]
  },
  {
   "cell_type": "code",
   "execution_count": 46,
   "metadata": {},
   "outputs": [],
   "source": [
    "# делим ltv на cac и получаем romi\n",
    "cac_report['romi'] = cac_report['ltv'] / cac_report['cac']\n",
    "romi_per_source = cac_report.pivot_table(\n",
    "        index='first_order_month', \n",
    "        columns='first_source', \n",
    "        values='romi', \n",
    "        aggfunc='sum')\n",
    "romi_per_source = romi_per_source.round(2) "
   ]
  },
  {
   "cell_type": "code",
   "execution_count": 47,
   "metadata": {},
   "outputs": [
    {
     "data": {
      "image/png": "[encoded data removed]",
      "text/plain": [
       "<Figure size 936x648 with 2 Axes>"
      ]
     },
     "metadata": {},
     "output_type": "display_data"
    }
   ],
   "source": [
    "# построим тепловую карту\n",
    "plt.figure(figsize=(13, 9))\n",
    "plt.title('ROMI')\n",
    "sns.heatmap(romi_per_source, annot=True, fmt='.2f', linewidths=1, linecolor='grey') ;"
   ]
  },
  {
   "cell_type": "markdown",
   "metadata": {},
   "source": [
    "* Видим, что не все источники окупаются. Особенное выделяется источник 3, который за все время ни разу не окупился. Также можно заметить, что больше 3-4 источников в один месяц не окупались поэтому, возможно, стоит попробовать использовать меньшее число источник в один месяц тк остальные попросту не окупаются. Также выделяется исчтоник 2  ROMI которого, был больше единицы (окупался) в каждый из месяцев."
   ]
  },
  {
   "cell_type": "code",
   "execution_count": 48,
   "metadata": {},
   "outputs": [
    {
     "data": {
      "text/plain": [
       "first_source\n",
       "1     2.080000\n",
       "2     1.584167\n",
       "9     1.416667\n",
       "4     0.864167\n",
       "5     0.848333\n",
       "10    0.719167\n",
       "3     0.315000\n",
       "dtype: float64"
      ]
     },
     "execution_count": 48,
     "metadata": {},
     "output_type": "execute_result"
    }
   ],
   "source": [
    "# усредним romi\n",
    "romi_per_source.mean().sort_values(ascending=False)"
   ]
  },
  {
   "cell_type": "markdown",
   "metadata": {},
   "source": [
    "* В среднем видим, что в среднем окупаются исчтоники 1 , 2 и 9. Только они имеют среднее значчение больше единицы. Однако это не значит , что нужно использовать только их. Источники 4 и 5 окупились лишь 2 и 3 раза соответсвтенно, а все остальное время принимали околоединичные значения и в какой то ситуции разово лучше использовать их."
   ]
  },
  {
   "cell_type": "markdown",
   "metadata": {},
   "source": [
    "### Вывод:"
   ]
  },
  {
   "cell_type": "markdown",
   "metadata": {},
   "source": [
    "За весь шаг мы рассчитали множество важных метрик, построили отчеты, ответили на поставленные вопросы.\n",
    "  Мы выяснили:\n",
    "*  Что имеем в среднем 907 посетителей на сайте в день , 5716 посетителей в неделю и 23228 в месяц\n",
    "* Выявили сезонность:ближе к концу года(начиная с октября) и в его первом месяце посещаемость наибольшая,а с апреля посещаемость падает\n",
    "* Большинство пользователей совершает одну сессию в день продолжительностью около минуты\n",
    "* Провевели когортный анализ и выяснили, что лучше всего мы удеживали пользователей пришедших с июня 2017 до до декабря 2017, потом коэффицент удежания снижался\n",
    "* У большинства пользователей проходит 0-25 дней или от 0 до 20 минут между первым визитом и покупкой. Также видна очень малочисленная группа пользователей у которых проходит более 10000 минут или 175 дней. Следует изучить причины такой задержки\n",
    "* В период июль-август, количество заказов снижалось и было минимальным. В период с августа до октября, количество заказов выросло более чем в 3 раза и к декабрю достигло максимума после которого опять начало снижаться. Это подверждает сезонность.\n",
    "* В период с ноября до декабря средний чек вырос до 6 и в январе сразу упал ниже доростового уровня (2). Также заметно резкое снижение среднего чека в мае-июне до 3\n",
    "* Больше всего денег пользователи когорт приносят в первый месяц. В последующие месяцы жизни когорты, пользователи приносят либо ноль , либо разово единичное значение.\n",
    "* Больше всего денег мы потратили на источники 3, 2 и 5\n",
    "* Больше всего тратили в период с августа до апреля, с июля до августа меньше всего.\n",
    "* Окупаемыми источниками являются 1,2 и 9\n",
    "* Источник 3 имеет самую высокую цену привлечения CAC и самую маленькую окупаемость ROMI - это невыгодный источник"
   ]
  },
  {
   "cell_type": "markdown",
   "metadata": {},
   "source": [
    "<a id='Шаг3'></a>"
   ]
  },
  {
   "cell_type": "markdown",
   "metadata": {},
   "source": [
    "### Шаг 3. Напишем общий вывод:"
   ]
  },
  {
   "cell_type": "markdown",
   "metadata": {},
   "source": [
    "За весь проект мы\n",
    "* изучили и предобработали данные\n",
    "* расситали множество метрик, построили отчеты, ответили на поставленные вопросы.\n",
    "На основе этого можем порекомендовать следующее:\n",
    "* Выяснить причину снижение метрики Ratention Rate у когорт, пришедших в декабре 2017, январе 2018 и далее\n",
    "* Следует более детально изучить категорию посетителей сайта посетители у которых c момента первого визита до заказа прошло до 175 дней и выяснить почему прошло так много времени, может были проблемы сайтом или необходимо настроить систему ретаргентига\n",
    "* Причину резкого падения среднего чека с 6 до 3 в периода с дкабря по январь \n",
    "* На основе метрики ltv, посчитанной по когортам, самые прибыльные когорты от 2017-06-01 и 2017-09-01. Возможно к их участникам применялся какой то особый рекламный подход. Следует посмотреть, не использовалось ли  что-то необычное в работе с этими когортами.\n",
    "* На основе ROMI логично порекомендовать больше денег вкладывать в источники 1,2 и 9, а снизить затраты на источникк 3 или отказаться от него. Попробовать не использовать больше 4х источников в один месяц.Оптимизировать затраты и число покупателей на источник и сделать их приближенными по остальным источникам к окупаемым источникам 1,2, и 9."
   ]
  }
 ],
 "metadata": {
  "kernelspec": {
   "display_name": "Python 3",
   "language": "python",
   "name": "python3"
  },
  "language_info": {
   "codemirror_mode": {
    "name": "ipython",
    "version": 3
   },
   "file_extension": ".py",
   "mimetype": "text/x-python",
   "name": "python",
   "nbconvert_exporter": "python",
   "pygments_lexer": "ipython3",
   "version": "3.7.8"
  },
  "toc": {
   "base_numbering": 1,
   "nav_menu": {},
   "number_sections": true,
   "sideBar": true,
   "skip_h1_title": false,
   "title_cell": "Table of Contents",
   "title_sidebar": "Contents",
   "toc_cell": false,
   "toc_position": {},
   "toc_section_display": true,
   "toc_window_display": false
  }
 },
 "nbformat": 4,
 "nbformat_minor": 2
}
